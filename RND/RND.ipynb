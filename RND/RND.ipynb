{
 "cells": [
  {
   "cell_type": "code",
   "execution_count": null,
   "metadata": {},
   "outputs": [],
   "source": [
    "# !brew install mpich\n",
    "# !pip install mpi4py\n",
    "!pip install psutil\n",
    "!pip install tensorflow==1.14.0\n",
    "# -> wrapt が悪さしてる的なエラー\n",
    "# !pip install tensorflow==1.14.0 --ignore-installed --user\n",
    "# !brew help"
   ]
  },
  {
   "cell_type": "code",
   "execution_count": null,
   "metadata": {},
   "outputs": [],
   "source": [
    "# !sudo apt install libopenmpi-dev"
   ]
  },
  {
   "cell_type": "code",
   "execution_count": null,
   "metadata": {},
   "outputs": [],
   "source": [
    "# !sudo apt-get install ssh"
   ]
  },
  {
   "cell_type": "code",
   "execution_count": null,
   "metadata": {},
   "outputs": [],
   "source": [
    "# %pwd\n",
    "%cd Workspace/RND/baselines/atari-py/\n",
    "# %cd\n",
    "# %ls\n",
    "!python -m atari_py.import_roms /home/endolab/ROMS"
   ]
  },
  {
   "cell_type": "code",
   "execution_count": null,
   "metadata": {},
   "outputs": [],
   "source": [
    "!git clone https://github.com/openai/baselines.git\n",
    "%cd baselines\n",
    "!pip install -e ."
   ]
  },
  {
   "cell_type": "markdown",
   "metadata": {},
   "source": [
    "# !git clone https://github.com/openai/random-network-distillation.git\n",
    "%cd random-network-distillation\n",
    "\n",
    "# cmd_util.pyの　\n",
    "# from gym.wrappers import FlattenDictWrapper\n",
    "# をコメントアウト\n",
    "# \n",
    "# ppoagent.py の下の方,449\n",
    "# with logger.ProfileKV(\"policy_inference\"):\n",
    "# を\n",
    "# with logger.profile_kv(\"policy_inference\"):\n",
    "# に修正\n",
    "# 2箇所ある,479\n",
    "# cmd_util.py 追加\n",
    "# from gym import wrappers\n",
    "# make_atari_env() の _thunk():\n",
    "# env = wrappers.Monitor(env, '/home/endolab/Workspace/RND/rnd_video', force=True)\n",
    "# run_atari.py\n",
    "# max_episode_steps を 500 に"
   ]
  },
  {
   "cell_type": "code",
   "execution_count": null,
   "metadata": {},
   "outputs": [],
   "source": [
    "!tensorboard --logdir=logs/"
   ]
  },
  {
   "cell_type": "code",
   "execution_count": 1,
   "metadata": {},
   "outputs": [
    {
     "name": "stdout",
     "output_type": "stream",
     "text": [
      "/home/endolab\n",
      "/home/endolab/Workspace/RND/baselines/random-network-distillation\n"
     ]
    }
   ],
   "source": [
    "%pwd\n",
    "# %ls\n",
    "%cd \n",
    "%cd Workspace/RND/baselines/random-network-distillation"
   ]
  },
  {
   "cell_type": "code",
   "execution_count": 51,
   "metadata": {},
   "outputs": [
    {
     "name": "stdout",
     "output_type": "stream",
     "text": [
      "/home/endolab/Workspace/RND/baselines/random-network-distillation/movie\n",
      "/home/endolab/Workspace/RND/baselines/random-network-distillation\n"
     ]
    }
   ],
   "source": [
    "%cd movie\n",
    "%mkdir s9n2_base_log7\n",
    "%cd ../"
   ]
  },
  {
   "cell_type": "code",
   "execution_count": 6,
   "metadata": {},
   "outputs": [
    {
     "name": "stdout",
     "output_type": "stream",
     "text": [
      "/home/endolab/.local/lib/python3.7/site-packages/tensorflow/python/framework/dtypes.py:516: FutureWarning: Passing (type, 1) or '1type' as a synonym of type is deprecated; in a future version of numpy, it will be understood as (type, (1,)) / '(1,)type'.\n",
      "  _np_qint8 = np.dtype([(\"qint8\", np.int8, 1)])\n",
      "/home/endolab/.local/lib/python3.7/site-packages/tensorflow/python/framework/dtypes.py:517: FutureWarning: Passing (type, 1) or '1type' as a synonym of type is deprecated; in a future version of numpy, it will be understood as (type, (1,)) / '(1,)type'.\n",
      "  _np_quint8 = np.dtype([(\"quint8\", np.uint8, 1)])\n",
      "/home/endolab/.local/lib/python3.7/site-packages/tensorflow/python/framework/dtypes.py:518: FutureWarning: Passing (type, 1) or '1type' as a synonym of type is deprecated; in a future version of numpy, it will be understood as (type, (1,)) / '(1,)type'.\n",
      "  _np_qint16 = np.dtype([(\"qint16\", np.int16, 1)])\n",
      "/home/endolab/.local/lib/python3.7/site-packages/tensorflow/python/framework/dtypes.py:519: FutureWarning: Passing (type, 1) or '1type' as a synonym of type is deprecated; in a future version of numpy, it will be understood as (type, (1,)) / '(1,)type'.\n",
      "  _np_quint16 = np.dtype([(\"quint16\", np.uint16, 1)])\n",
      "/home/endolab/.local/lib/python3.7/site-packages/tensorflow/python/framework/dtypes.py:520: FutureWarning: Passing (type, 1) or '1type' as a synonym of type is deprecated; in a future version of numpy, it will be understood as (type, (1,)) / '(1,)type'.\n",
      "  _np_qint32 = np.dtype([(\"qint32\", np.int32, 1)])\n",
      "/home/endolab/.local/lib/python3.7/site-packages/tensorflow/python/framework/dtypes.py:525: FutureWarning: Passing (type, 1) or '1type' as a synonym of type is deprecated; in a future version of numpy, it will be understood as (type, (1,)) / '(1,)type'.\n",
      "  np_resource = np.dtype([(\"resource\", np.ubyte, 1)])\n",
      "/home/endolab/.local/lib/python3.7/site-packages/tensorboard/compat/tensorflow_stub/dtypes.py:541: FutureWarning: Passing (type, 1) or '1type' as a synonym of type is deprecated; in a future version of numpy, it will be understood as (type, (1,)) / '(1,)type'.\n",
      "  _np_qint8 = np.dtype([(\"qint8\", np.int8, 1)])\n",
      "/home/endolab/.local/lib/python3.7/site-packages/tensorboard/compat/tensorflow_stub/dtypes.py:542: FutureWarning: Passing (type, 1) or '1type' as a synonym of type is deprecated; in a future version of numpy, it will be understood as (type, (1,)) / '(1,)type'.\n",
      "  _np_quint8 = np.dtype([(\"quint8\", np.uint8, 1)])\n",
      "/home/endolab/.local/lib/python3.7/site-packages/tensorboard/compat/tensorflow_stub/dtypes.py:543: FutureWarning: Passing (type, 1) or '1type' as a synonym of type is deprecated; in a future version of numpy, it will be understood as (type, (1,)) / '(1,)type'.\n",
      "  _np_qint16 = np.dtype([(\"qint16\", np.int16, 1)])\n",
      "/home/endolab/.local/lib/python3.7/site-packages/tensorboard/compat/tensorflow_stub/dtypes.py:544: FutureWarning: Passing (type, 1) or '1type' as a synonym of type is deprecated; in a future version of numpy, it will be understood as (type, (1,)) / '(1,)type'.\n",
      "  _np_quint16 = np.dtype([(\"quint16\", np.uint16, 1)])\n",
      "/home/endolab/.local/lib/python3.7/site-packages/tensorboard/compat/tensorflow_stub/dtypes.py:545: FutureWarning: Passing (type, 1) or '1type' as a synonym of type is deprecated; in a future version of numpy, it will be understood as (type, (1,)) / '(1,)type'.\n",
      "  _np_qint32 = np.dtype([(\"qint32\", np.int32, 1)])\n",
      "/home/endolab/.local/lib/python3.7/site-packages/tensorboard/compat/tensorflow_stub/dtypes.py:550: FutureWarning: Passing (type, 1) or '1type' as a synonym of type is deprecated; in a future version of numpy, it will be understood as (type, (1,)) / '(1,)type'.\n",
      "  np_resource = np.dtype([(\"resource\", np.ubyte, 1)])\n",
      "seed:82\n",
      "Logging to /tmp/openai-2020-12-21-16-27-04-389006\n",
      "Logging to /tmp/openai-2020-12-21-16-27-04-389006\n",
      "2020-12-21 16:27:04.396564: I tensorflow/core/platform/cpu_feature_guard.cc:142] Your CPU supports instructions that this TensorFlow binary was not compiled to use: AVX2 FMA\n",
      "2020-12-21 16:27:04.399589: I tensorflow/core/platform/profile_utils/cpu_utils.cc:94] CPU Frequency: 3199980000 Hz\n",
      "2020-12-21 16:27:04.399990: I tensorflow/compiler/xla/service/service.cc:168] XLA service 0x556340ae2e60 executing computations on platform Host. Devices:\n",
      "2020-12-21 16:27:04.400004: I tensorflow/compiler/xla/service/service.cc:175]   StreamExecutor device (0): <undefined>, <undefined>\n",
      "Box(84, 84, 4)\n",
      "CnnGruPolicy: using 'ppo/strided_slice_2:0' shape (?, ?, 84, 84, 4) as image input\n",
      "WARNING:tensorflow:From /home/endolab/Workspace/RND/baselines/random-network-distillation/policies/cnn_gru_policy_dynamics.py:134: dynamic_rnn (from tensorflow.python.ops.rnn) is deprecated and will be removed in a future version.\n",
      "Instructions for updating:\n",
      "Please use `keras.layers.RNN(cell)`, which is equivalent to this API\n",
      "WARNING:tensorflow:Entity <bound method GRUCell.call of <policies.cnn_gru_policy_dynamics.GRUCell object at 0x7fc1f7dbf1d0>> could not be transformed and will be executed as-is. Please report this to the AutgoGraph team. When filing the bug, set the verbosity to 10 (on Linux, `export AUTOGRAPH_VERBOSITY=10`) and attach the full output. Cause: converting <bound method GRUCell.call of <policies.cnn_gru_policy_dynamics.GRUCell object at 0x7fc1f7dbf1d0>>: AssertionError: Bad argument number for Name: 3, expecting 4\n",
      "CnnGruPolicy: using 'ppo/obs:0' shape (?, ?, 84, 84, 4) as image input\n",
      "WARNING:tensorflow:Entity <bound method GRUCell.call of <policies.cnn_gru_policy_dynamics.GRUCell object at 0x7fc1f42e65f8>> could not be transformed and will be executed as-is. Please report this to the AutgoGraph team. When filing the bug, set the verbosity to 10 (on Linux, `export AUTOGRAPH_VERBOSITY=10`) and attach the full output. Cause: converting <bound method GRUCell.call of <policies.cnn_gru_policy_dynamics.GRUCell object at 0x7fc1f42e65f8>>: AssertionError: Bad argument number for Name: 3, expecting 4\n",
      "CnnTarget: using 'ppo/obs:0' shape (?, ?, 84, 84, 4) as image input\n",
      "CnnTarget: using 'ppo/obs:0' shape (?, ?, 84, 84, 4) as image input\n",
      "WARNING:tensorflow:From /home/endolab/Workspace/RND/baselines/baselines/common/distributions.py:200: The name tf.random_uniform is deprecated. Please use tf.random.uniform instead.\n",
      "\n",
      "WARNING:tensorflow:From /home/endolab/Workspace/RND/baselines/random-network-distillation/ppo_agent.py:146: The name tf.placeholder is deprecated. Please use tf.compat.v1.placeholder instead.\n",
      "\n",
      "WARNING:tensorflow:From /home/endolab/Workspace/RND/baselines/random-network-distillation/ppo_agent.py:169: to_float (from tensorflow.python.ops.math_ops) is deprecated and will be removed in a future version.\n",
      "Instructions for updating:\n",
      "Use `tf.cast` instead.\n",
      "WARNING:tensorflow:From /home/endolab/Workspace/RND/baselines/random-network-distillation/ppo_agent.py:184: The name tf.summary.scalar is deprecated. Please use tf.compat.v1.summary.scalar instead.\n",
      "\n",
      "WARNING:tensorflow:From /home/endolab/Workspace/RND/baselines/random-network-distillation/ppo_agent.py:185: The name tf.summary.merge_all is deprecated. Please use tf.compat.v1.summary.merge_all instead.\n",
      "\n",
      "WARNING:tensorflow:From /home/endolab/Workspace/RND/baselines/random-network-distillation/ppo_agent.py:186: The name tf.summary.FileWriter is deprecated. Please use tf.compat.v1.summary.FileWriter instead.\n",
      "\n",
      "WARNING:tensorflow:From /home/endolab/Workspace/RND/baselines/random-network-distillation/ppo_agent.py:189: The name tf.get_collection is deprecated. Please use tf.compat.v1.get_collection instead.\n",
      "\n",
      "WARNING:tensorflow:From /home/endolab/Workspace/RND/baselines/random-network-distillation/ppo_agent.py:189: The name tf.GraphKeys is deprecated. Please use tf.compat.v1.GraphKeys instead.\n",
      "\n",
      "PPO: using MpiAdamOptimizer connected to 1 peers\n",
      "WARNING:tensorflow:From /home/endolab/.local/lib/python3.7/site-packages/tensorflow/python/ops/math_grad.py:1250: add_dispatch_support.<locals>.wrapper (from tensorflow.python.ops.array_ops) is deprecated and will be removed in a future version.\n",
      "Instructions for updating:\n",
      "Use tf.where in 2.0, which has the same broadcast rule as np.where\n",
      "WARNING:tensorflow:From /home/endolab/Workspace/RND/baselines/random-network-distillation/mpi_util.py:143: py_func (from tensorflow.python.ops.script_ops) is deprecated and will be removed in a future version.\n",
      "Instructions for updating:\n",
      "tf.py_func is deprecated in TF V2. Instead, there are two\n",
      "    options available in V2.\n",
      "    - tf.py_function takes a python function which manipulates tf eager\n",
      "    tensors instead of numpy arrays. It's easy to convert a tf eager tensor to\n",
      "    an ndarray (just call tensor.numpy()) but having access to eager tensors\n",
      "    means `tf.py_function`s can use accelerators such as GPUs as well as\n",
      "    being differentiable using a gradient tape.\n",
      "    - tf.numpy_function maintains the semantics of the deprecated tf.py_func\n",
      "    (it is not differentiable, and manipulates numpy arrays). It drops the\n",
      "    stateful argument making all functions stateful.\n",
      "    \n",
      "WARNING:tensorflow:From /home/endolab/Workspace/RND/baselines/random-network-distillation/ppo_agent.py:196: The name tf.global_norm is deprecated. Please use tf.linalg.global_norm instead.\n",
      "\n",
      "   ppo/pol/c1/w:0                                          8192 params (8, 8, 4, 32)\n",
      "   ppo/pol/c2/w:0                                          32768 params (4, 4, 32, 64)\n",
      "   ppo/pol/c3/w:0                                          65536 params (4, 4, 64, 64)\n",
      "   ppo/pol/fc1/w:0                                         589824 params (2304, 256)\n",
      "   ppo/pol/rnn/gru_cell/mr/w:0                             262144 params (512, 512)\n",
      "   ppo/pol/rnn/gru_cell/htil/w:0                           131072 params (512, 256)\n",
      "   ppo/pol/fc2val/w:0                                      65536 params (256, 256)\n",
      "   ppo/pol/fc2act/w:0                                      65536 params (256, 256)\n",
      "   ppo/pol/pd/w:0                                          1792 params (256, 7)\n",
      "   ppo/pol/vf_int/w:0                                      256 params (256, 1)\n",
      "   ppo/pol/vf_ext/w:0                                      256 params (256, 1)\n",
      "   ppo/c1r/w:0                                             2048 params (8, 8, 1, 32)\n",
      "   ppo/c2r/w:0                                             32768 params (4, 4, 32, 64)\n",
      "   ppo/c3r/w:0                                             36864 params (3, 3, 64, 64)\n",
      "   ppo/fc1r/w:0                                            1605632 params (3136, 512)\n",
      "   ppo/c1rp_pred/w:0                                       2048 params (8, 8, 1, 32)\n",
      "   ppo/c2rp_pred/w:0                                       32768 params (4, 4, 32, 64)\n",
      "   ppo/c3rp_pred/w:0                                       36864 params (3, 3, 64, 64)\n",
      "   ppo/fc1r_hat1_pred/w:0                                  1605632 params (3136, 512)\n",
      "   ppo/fc1r_hat2_pred/w:0                                  262144 params (512, 512)\n",
      "   ppo/fc1r_hat3_pred/w:0                                  262144 params (512, 512)\n",
      "Total model parameters: 5.11 million\n",
      "2020-12-21 16:27:06.974041: W tensorflow/compiler/jit/mark_for_compilation_pass.cc:1412] (One-time warning): Not using XLA:CPU for cluster because envvar TF_XLA_FLAGS=--tf_xla_cpu_global_jit was not set.  If you want XLA:CPU, either set that envvar, or use experimental_jit_scope to enable XLA:CPU.  To confirm that XLA is active, pass --vmodule=xla_compilation_cache=1 (as a proper command-line flag, not via TF_XLA_FLAGS) or set the envvar XLA_FLAGS=--xla_hlo_profile.\n",
      "Rooms visited [0]\n",
      "Best return 0\n",
      "Best local return [0]\n",
      "eprews [0.0]\n",
      "n_rooms [1]\n",
      "Extrinsic coefficient 2.0\n",
      "Gamma 0.99\n",
      "Gamma ext 0.999\n",
      "All scores [0]\n",
      "buffer shape (32, 128), samples_per_mpi=4096, mini_per_mpi=1024, samples=4096, mini=1024 \n",
      "                tot |            pg |            vf |           ent |      clipfrac |      approxkl |         maxkl |       auxloss |       featvar |       maxfeat |      gradnorm\n",
      "Traceback (most recent call last):\n",
      "  File \"run_atari.py\", line 183, in <module>\n",
      "    main()\n",
      "  File \"run_atari.py\", line 175, in main\n",
      "    num_timesteps=args.num_timesteps, hps=hps)\n",
      "  File \"run_atari.py\", line 81, in train\n",
      "    info, obs = agent.step()\n",
      "  File \"/home/endolab/Workspace/RND/baselines/baselines/logger.py\", line 280, in func_wrapper\n",
      "    return func(*args, **kwargs)\n",
      "  File \"/home/endolab/Workspace/RND/baselines/random-network-distillation/ppo_agent.py\", line 515, in step\n",
      "    update_info = self.update()\n",
      "  File \"/home/endolab/Workspace/RND/baselines/baselines/logger.py\", line 280, in func_wrapper\n",
      "    return func(*args, **kwargs)\n",
      "  File \"/home/endolab/Workspace/RND/baselines/random-network-distillation/ppo_agent.py\", line 398, in update\n",
      "    self.writer.add_summary(ret[0][0])\n",
      "  File \"/home/endolab/.local/lib/python3.7/site-packages/tensorflow/python/summary/writer/writer.py\", line 127, in add_summary\n",
      "    for value in summary.value:\n",
      "AttributeError: 'numpy.float32' object has no attribute 'value'\n",
      "finish\n"
     ]
    }
   ],
   "source": [
    "import os\n",
    "os.environ['RCALL_NUM_GPU'] = \"1\"\n",
    "# !python run_atari.py --gamma_ext 0.999 > log/s9n2_base_log7.txt\n",
    "!python run_atari.py --gamma_ext 0.999\n",
    "print(\"finish\")"
   ]
  },
  {
   "cell_type": "code",
   "execution_count": null,
   "metadata": {},
   "outputs": [
    {
     "name": "stdout",
     "output_type": "stream",
     "text": [
      "/home/endolab/.local/lib/python3.7/site-packages/tensorboard/compat/tensorflow_stub/dtypes.py:541: FutureWarning: Passing (type, 1) or '1type' as a synonym of type is deprecated; in a future version of numpy, it will be understood as (type, (1,)) / '(1,)type'.\n",
      "  _np_qint8 = np.dtype([(\"qint8\", np.int8, 1)])\n",
      "/home/endolab/.local/lib/python3.7/site-packages/tensorboard/compat/tensorflow_stub/dtypes.py:542: FutureWarning: Passing (type, 1) or '1type' as a synonym of type is deprecated; in a future version of numpy, it will be understood as (type, (1,)) / '(1,)type'.\n",
      "  _np_quint8 = np.dtype([(\"quint8\", np.uint8, 1)])\n",
      "/home/endolab/.local/lib/python3.7/site-packages/tensorboard/compat/tensorflow_stub/dtypes.py:543: FutureWarning: Passing (type, 1) or '1type' as a synonym of type is deprecated; in a future version of numpy, it will be understood as (type, (1,)) / '(1,)type'.\n",
      "  _np_qint16 = np.dtype([(\"qint16\", np.int16, 1)])\n",
      "/home/endolab/.local/lib/python3.7/site-packages/tensorboard/compat/tensorflow_stub/dtypes.py:544: FutureWarning: Passing (type, 1) or '1type' as a synonym of type is deprecated; in a future version of numpy, it will be understood as (type, (1,)) / '(1,)type'.\n",
      "  _np_quint16 = np.dtype([(\"quint16\", np.uint16, 1)])\n",
      "/home/endolab/.local/lib/python3.7/site-packages/tensorboard/compat/tensorflow_stub/dtypes.py:545: FutureWarning: Passing (type, 1) or '1type' as a synonym of type is deprecated; in a future version of numpy, it will be understood as (type, (1,)) / '(1,)type'.\n",
      "  _np_qint32 = np.dtype([(\"qint32\", np.int32, 1)])\n",
      "/home/endolab/.local/lib/python3.7/site-packages/tensorboard/compat/tensorflow_stub/dtypes.py:550: FutureWarning: Passing (type, 1) or '1type' as a synonym of type is deprecated; in a future version of numpy, it will be understood as (type, (1,)) / '(1,)type'.\n",
      "  np_resource = np.dtype([(\"resource\", np.ubyte, 1)])\n",
      "/home/endolab/.local/lib/python3.7/site-packages/tensorflow/python/framework/dtypes.py:516: FutureWarning: Passing (type, 1) or '1type' as a synonym of type is deprecated; in a future version of numpy, it will be understood as (type, (1,)) / '(1,)type'.\n",
      "  _np_qint8 = np.dtype([(\"qint8\", np.int8, 1)])\n",
      "/home/endolab/.local/lib/python3.7/site-packages/tensorflow/python/framework/dtypes.py:517: FutureWarning: Passing (type, 1) or '1type' as a synonym of type is deprecated; in a future version of numpy, it will be understood as (type, (1,)) / '(1,)type'.\n",
      "  _np_quint8 = np.dtype([(\"quint8\", np.uint8, 1)])\n",
      "/home/endolab/.local/lib/python3.7/site-packages/tensorflow/python/framework/dtypes.py:518: FutureWarning: Passing (type, 1) or '1type' as a synonym of type is deprecated; in a future version of numpy, it will be understood as (type, (1,)) / '(1,)type'.\n",
      "  _np_qint16 = np.dtype([(\"qint16\", np.int16, 1)])\n",
      "/home/endolab/.local/lib/python3.7/site-packages/tensorflow/python/framework/dtypes.py:519: FutureWarning: Passing (type, 1) or '1type' as a synonym of type is deprecated; in a future version of numpy, it will be understood as (type, (1,)) / '(1,)type'.\n",
      "  _np_quint16 = np.dtype([(\"quint16\", np.uint16, 1)])\n",
      "/home/endolab/.local/lib/python3.7/site-packages/tensorflow/python/framework/dtypes.py:520: FutureWarning: Passing (type, 1) or '1type' as a synonym of type is deprecated; in a future version of numpy, it will be understood as (type, (1,)) / '(1,)type'.\n",
      "  _np_qint32 = np.dtype([(\"qint32\", np.int32, 1)])\n",
      "/home/endolab/.local/lib/python3.7/site-packages/tensorflow/python/framework/dtypes.py:525: FutureWarning: Passing (type, 1) or '1type' as a synonym of type is deprecated; in a future version of numpy, it will be understood as (type, (1,)) / '(1,)type'.\n",
      "  np_resource = np.dtype([(\"resource\", np.ubyte, 1)])\n",
      "W1217 18:47:48.559920 139922995283712 plugin_event_accumulator.py:294] Found more than one graph event per run, or there was a metagraph containing a graph_def, as well as one or more graph events.  Overwriting the graph with the newest event.\n",
      "W1217 18:47:48.584691 139922995283712 plugin_event_accumulator.py:302] Found more than one metagraph event per run. Overwriting the metagraph with the newest event.\n",
      "W1217 18:47:48.603275 139922995283712 plugin_event_accumulator.py:294] Found more than one graph event per run, or there was a metagraph containing a graph_def, as well as one or more graph events.  Overwriting the graph with the newest event.\n",
      "W1217 18:47:48.633299 139922995283712 plugin_event_accumulator.py:302] Found more than one metagraph event per run. Overwriting the metagraph with the newest event.\n",
      "TensorBoard 1.14.0 at http://bc9bd42b04db:6006/ (Press CTRL+C to quit)\n",
      "W1217 18:47:48.658394 139922995283712 plugin_event_accumulator.py:294] Found more than one graph event per run, or there was a metagraph containing a graph_def, as well as one or more graph events.  Overwriting the graph with the newest event.\n",
      "W1217 18:47:48.681945 139922995283712 plugin_event_accumulator.py:302] Found more than one metagraph event per run. Overwriting the metagraph with the newest event.\n",
      "W1217 18:47:48.700121 139922995283712 plugin_event_accumulator.py:294] Found more than one graph event per run, or there was a metagraph containing a graph_def, as well as one or more graph events.  Overwriting the graph with the newest event.\n",
      "W1217 18:47:48.729737 139922995283712 plugin_event_accumulator.py:302] Found more than one metagraph event per run. Overwriting the metagraph with the newest event.\n",
      "W1217 18:47:48.754314 139922995283712 plugin_event_accumulator.py:294] Found more than one graph event per run, or there was a metagraph containing a graph_def, as well as one or more graph events.  Overwriting the graph with the newest event.\n",
      "W1217 18:47:48.777752 139922995283712 plugin_event_accumulator.py:302] Found more than one metagraph event per run. Overwriting the metagraph with the newest event.\n",
      "I1217 18:47:52.388638 139923037230848 _internal.py:113] ::ffff:10.15.0.128 - - [17/Dec/2020 18:47:52] \"\u001b[37mGET / HTTP/1.1\u001b[0m\" 200 -\n",
      "I1217 18:47:53.408007 139923079177984 _internal.py:113] ::ffff:10.15.0.128 - - [17/Dec/2020 18:47:53] \"\u001b[37mGET /font-roboto/oMMgfZMQthOryQo9n22dcuvvDin1pK8aKteLpeZ5c0A.woff2 HTTP/1.1\u001b[0m\" 200 -\n",
      "I1217 18:47:55.587564 139923079177984 _internal.py:113] ::ffff:10.15.0.128 - - [17/Dec/2020 18:47:55] \"\u001b[37mGET /data/environment HTTP/1.1\u001b[0m\" 200 -\n",
      "I1217 18:47:55.592097 139923037230848 _internal.py:113] ::ffff:10.15.0.128 - - [17/Dec/2020 18:47:55] \"\u001b[37mGET /data/plugins_listing HTTP/1.1\u001b[0m\" 200 -\n",
      "I1217 18:47:55.647711 139923121125120 _internal.py:113] ::ffff:10.15.0.128 - - [17/Dec/2020 18:47:55] \"\u001b[37mGET /data/runs HTTP/1.1\u001b[0m\" 200 -\n",
      "I1217 18:47:55.650969 139922447931136 _internal.py:113] ::ffff:10.15.0.128 - - [17/Dec/2020 18:47:55] \"\u001b[37mGET /data/experiments HTTP/1.1\u001b[0m\" 200 -\n",
      "I1217 18:47:55.839911 139923079177984 _internal.py:113] ::ffff:10.15.0.128 - - [17/Dec/2020 18:47:55] \"\u001b[37mGET /font-roboto/RxZJdnzeo3R5zSexge8UUZBw1xU1rKptJj_0jans920.woff2 HTTP/1.1\u001b[0m\" 200 -\n",
      "I1217 18:47:55.861578 139922439538432 _internal.py:113] ::ffff:10.15.0.128 - - [17/Dec/2020 18:47:55] \"\u001b[37mGET /data/environment HTTP/1.1\u001b[0m\" 200 -\n",
      "I1217 18:47:55.864056 139923037230848 _internal.py:113] ::ffff:10.15.0.128 - - [17/Dec/2020 18:47:55] \"\u001b[37mGET /data/experiments HTTP/1.1\u001b[0m\" 200 -\n",
      "I1217 18:47:55.868775 139923121125120 _internal.py:113] ::ffff:10.15.0.128 - - [17/Dec/2020 18:47:55] \"\u001b[37mGET /data/runs HTTP/1.1\u001b[0m\" 200 -\n",
      "I1217 18:47:55.873921 139922447931136 _internal.py:113] ::ffff:10.15.0.128 - - [17/Dec/2020 18:47:55] \"\u001b[37mGET /data/plugins_listing HTTP/1.1\u001b[0m\" 200 -\n",
      "I1217 18:47:56.357019 139922447931136 _internal.py:113] ::ffff:10.15.0.128 - - [17/Dec/2020 18:47:56] \"\u001b[37mGET /data/plugin/scalars/tags HTTP/1.1\u001b[0m\" 200 -\n",
      "I1217 18:47:56.388531 139923121125120 _internal.py:113] ::ffff:10.15.0.128 - - [17/Dec/2020 18:47:56] \"\u001b[37mGET /font-roboto/d-6IYplOFocCacKzxwXSOJBw1xU1rKptJj_0jans920.woff2 HTTP/1.1\u001b[0m\" 200 -\n",
      "I1217 18:47:56.482526 139922447931136 _internal.py:113] ::ffff:10.15.0.128 - - [17/Dec/2020 18:47:56] \"\u001b[37mGET /data/plugin/scalars/tags HTTP/1.1\u001b[0m\" 200 -\n",
      "I1217 18:48:26.750851 139922439538432 _internal.py:113] ::ffff:10.15.0.128 - - [17/Dec/2020 18:48:26] \"\u001b[37mGET /data/experiments HTTP/1.1\u001b[0m\" 200 -\n",
      "I1217 18:48:26.755279 139923037230848 _internal.py:113] ::ffff:10.15.0.128 - - [17/Dec/2020 18:48:26] \"\u001b[37mGET /data/runs HTTP/1.1\u001b[0m\" 200 -\n",
      "I1217 18:48:26.756200 139923121125120 _internal.py:113] ::ffff:10.15.0.128 - - [17/Dec/2020 18:48:26] \"\u001b[37mGET /data/environment HTTP/1.1\u001b[0m\" 200 -\n",
      "I1217 18:48:26.760468 139922447931136 _internal.py:113] ::ffff:10.15.0.128 - - [17/Dec/2020 18:48:26] \"\u001b[37mGET /data/plugins_listing HTTP/1.1\u001b[0m\" 200 -\n",
      "I1217 18:48:26.904736 139922447931136 _internal.py:113] ::ffff:10.15.0.128 - - [17/Dec/2020 18:48:26] \"\u001b[37mGET /data/plugin/scalars/tags HTTP/1.1\u001b[0m\" 200 -\n",
      "I1217 18:53:43.359097 139923037230848 _internal.py:113] ::ffff:10.15.0.128 - - [17/Dec/2020 18:53:43] \"\u001b[37mGET /data/plugins_listing HTTP/1.1\u001b[0m\" 200 -\n",
      "I1217 18:53:43.380974 139923121125120 _internal.py:113] ::ffff:10.15.0.128 - - [17/Dec/2020 18:53:43] \"\u001b[37mGET /data/environment HTTP/1.1\u001b[0m\" 200 -\n",
      "I1217 18:53:43.383462 139922447931136 _internal.py:113] ::ffff:10.15.0.128 - - [17/Dec/2020 18:53:43] \"\u001b[37mGET /data/runs HTTP/1.1\u001b[0m\" 200 -\n",
      "I1217 18:53:43.385113 139923079177984 _internal.py:113] ::ffff:10.15.0.128 - - [17/Dec/2020 18:53:43] \"\u001b[37mGET /data/experiments HTTP/1.1\u001b[0m\" 200 -\n",
      "I1217 18:53:43.543909 139923079177984 _internal.py:113] ::ffff:10.15.0.128 - - [17/Dec/2020 18:53:43] \"\u001b[37mGET /data/plugin/scalars/tags HTTP/1.1\u001b[0m\" 200 -\n",
      "I1217 18:54:02.249296 139923037230848 _internal.py:113] ::ffff:10.15.0.128 - - [17/Dec/2020 18:54:02] \"\u001b[37mGET /data/experiments HTTP/1.1\u001b[0m\" 200 -\n",
      "I1217 18:54:02.253388 139922447931136 _internal.py:113] ::ffff:10.15.0.128 - - [17/Dec/2020 18:54:02] \"\u001b[37mGET /data/environment HTTP/1.1\u001b[0m\" 200 -\n",
      "I1217 18:54:02.256035 139923121125120 _internal.py:113] ::ffff:10.15.0.128 - - [17/Dec/2020 18:54:02] \"\u001b[37mGET /data/runs HTTP/1.1\u001b[0m\" 200 -\n",
      "I1217 18:54:02.260146 139923079177984 _internal.py:113] ::ffff:10.15.0.128 - - [17/Dec/2020 18:54:02] \"\u001b[37mGET /data/plugins_listing HTTP/1.1\u001b[0m\" 200 -\n",
      "I1217 18:54:02.435946 139923079177984 _internal.py:113] ::ffff:10.15.0.128 - - [17/Dec/2020 18:54:02] \"\u001b[37mGET /data/plugin/scalars/tags HTTP/1.1\u001b[0m\" 200 -\n",
      "I1217 18:54:33.201568 139923121125120 _internal.py:113] ::ffff:10.15.0.128 - - [17/Dec/2020 18:54:33] \"\u001b[37mGET /data/environment HTTP/1.1\u001b[0m\" 200 -\n",
      "I1217 18:54:33.202548 139922447931136 _internal.py:113] ::ffff:10.15.0.128 - - [17/Dec/2020 18:54:33] \"\u001b[37mGET /data/runs HTTP/1.1\u001b[0m\" 200 -\n",
      "I1217 18:54:33.207861 139923037230848 _internal.py:113] ::ffff:10.15.0.128 - - [17/Dec/2020 18:54:33] \"\u001b[37mGET /data/experiments HTTP/1.1\u001b[0m\" 200 -\n",
      "I1217 18:54:33.208773 139923079177984 _internal.py:113] ::ffff:10.15.0.128 - - [17/Dec/2020 18:54:33] \"\u001b[37mGET /data/plugins_listing HTTP/1.1\u001b[0m\" 200 -\n",
      "I1217 18:54:33.339997 139923079177984 _internal.py:113] ::ffff:10.15.0.128 - - [17/Dec/2020 18:54:33] \"\u001b[37mGET /data/plugin/scalars/tags HTTP/1.1\u001b[0m\" 200 -\n",
      "I1217 18:55:04.196681 139923121125120 _internal.py:113] ::ffff:10.15.0.128 - - [17/Dec/2020 18:55:04] \"\u001b[37mGET /data/experiments HTTP/1.1\u001b[0m\" 200 -\n",
      "I1217 18:55:04.200949 139922447931136 _internal.py:113] ::ffff:10.15.0.128 - - [17/Dec/2020 18:55:04] \"\u001b[37mGET /data/runs HTTP/1.1\u001b[0m\" 200 -\n",
      "I1217 18:55:04.207162 139923037230848 _internal.py:113] ::ffff:10.15.0.128 - - [17/Dec/2020 18:55:04] \"\u001b[37mGET /data/environment HTTP/1.1\u001b[0m\" 200 -\n",
      "I1217 18:55:04.208513 139923079177984 _internal.py:113] ::ffff:10.15.0.128 - - [17/Dec/2020 18:55:04] \"\u001b[37mGET /data/plugins_listing HTTP/1.1\u001b[0m\" 200 -\n",
      "I1217 18:55:04.348373 139923079177984 _internal.py:113] ::ffff:10.15.0.128 - - [17/Dec/2020 18:55:04] \"\u001b[37mGET /data/plugin/scalars/tags HTTP/1.1\u001b[0m\" 200 -\n",
      "I1217 18:55:35.200949 139922447931136 _internal.py:113] ::ffff:10.15.0.128 - - [17/Dec/2020 18:55:35] \"\u001b[37mGET /data/runs HTTP/1.1\u001b[0m\" 200 -\n",
      "I1217 18:55:35.204308 139923121125120 _internal.py:113] ::ffff:10.15.0.128 - - [17/Dec/2020 18:55:35] \"\u001b[37mGET /data/experiments HTTP/1.1\u001b[0m\" 200 -\n",
      "I1217 18:55:35.205446 139923037230848 _internal.py:113] ::ffff:10.15.0.128 - - [17/Dec/2020 18:55:35] \"\u001b[37mGET /data/environment HTTP/1.1\u001b[0m\" 200 -\n",
      "I1217 18:55:35.210746 139923079177984 _internal.py:113] ::ffff:10.15.0.128 - - [17/Dec/2020 18:55:35] \"\u001b[37mGET /data/plugins_listing HTTP/1.1\u001b[0m\" 200 -\n",
      "I1217 18:55:35.340124 139923079177984 _internal.py:113] ::ffff:10.15.0.128 - - [17/Dec/2020 18:55:35] \"\u001b[37mGET /data/plugin/scalars/tags HTTP/1.1\u001b[0m\" 200 -\n",
      "I1217 18:56:06.199139 139922447931136 _internal.py:113] ::ffff:10.15.0.128 - - [17/Dec/2020 18:56:06] \"\u001b[37mGET /data/experiments HTTP/1.1\u001b[0m\" 200 -\n",
      "I1217 18:56:06.200110 139923037230848 _internal.py:113] ::ffff:10.15.0.128 - - [17/Dec/2020 18:56:06] \"\u001b[37mGET /data/environment HTTP/1.1\u001b[0m\" 200 -\n",
      "I1217 18:56:06.204257 139923121125120 _internal.py:113] ::ffff:10.15.0.128 - - [17/Dec/2020 18:56:06] \"\u001b[37mGET /data/runs HTTP/1.1\u001b[0m\" 200 -\n",
      "I1217 18:56:06.208490 139923079177984 _internal.py:113] ::ffff:10.15.0.128 - - [17/Dec/2020 18:56:06] \"\u001b[37mGET /data/plugins_listing HTTP/1.1\u001b[0m\" 200 -\n",
      "I1217 18:56:06.333064 139923079177984 _internal.py:113] ::ffff:10.15.0.128 - - [17/Dec/2020 18:56:06] \"\u001b[37mGET /data/plugin/scalars/tags HTTP/1.1\u001b[0m\" 200 -\n",
      "I1217 18:56:37.210882 139923121125120 _internal.py:113] ::ffff:10.15.0.128 - - [17/Dec/2020 18:56:37] \"\u001b[37mGET /data/environment HTTP/1.1\u001b[0m\" 200 -\n",
      "I1217 18:56:37.213487 139923037230848 _internal.py:113] ::ffff:10.15.0.128 - - [17/Dec/2020 18:56:37] \"\u001b[37mGET /data/runs HTTP/1.1\u001b[0m\" 200 -\n",
      "I1217 18:56:37.217717 139922447931136 _internal.py:113] ::ffff:10.15.0.128 - - [17/Dec/2020 18:56:37] \"\u001b[37mGET /data/experiments HTTP/1.1\u001b[0m\" 200 -\n",
      "I1217 18:56:37.222856 139923079177984 _internal.py:113] ::ffff:10.15.0.128 - - [17/Dec/2020 18:56:37] \"\u001b[37mGET /data/plugins_listing HTTP/1.1\u001b[0m\" 200 -\n",
      "I1217 18:56:37.358597 139923079177984 _internal.py:113] ::ffff:10.15.0.128 - - [17/Dec/2020 18:56:37] \"\u001b[37mGET /data/plugin/scalars/tags HTTP/1.1\u001b[0m\" 200 -\n",
      "I1217 18:57:08.196180 139923121125120 _internal.py:113] ::ffff:10.15.0.128 - - [17/Dec/2020 18:57:08] \"\u001b[37mGET /data/experiments HTTP/1.1\u001b[0m\" 200 -\n",
      "I1217 18:57:08.201271 139923037230848 _internal.py:113] ::ffff:10.15.0.128 - - [17/Dec/2020 18:57:08] \"\u001b[37mGET /data/runs HTTP/1.1\u001b[0m\" 200 -\n",
      "I1217 18:57:08.203891 139922447931136 _internal.py:113] ::ffff:10.15.0.128 - - [17/Dec/2020 18:57:08] \"\u001b[37mGET /data/environment HTTP/1.1\u001b[0m\" 200 -\n",
      "I1217 18:57:08.208116 139923079177984 _internal.py:113] ::ffff:10.15.0.128 - - [17/Dec/2020 18:57:08] \"\u001b[37mGET /data/plugins_listing HTTP/1.1\u001b[0m\" 200 -\n",
      "I1217 18:57:08.329087 139923079177984 _internal.py:113] ::ffff:10.15.0.128 - - [17/Dec/2020 18:57:08] \"\u001b[37mGET /data/plugin/scalars/tags HTTP/1.1\u001b[0m\" 200 -\n",
      "I1217 18:57:39.197832 139923121125120 _internal.py:113] ::ffff:10.15.0.128 - - [17/Dec/2020 18:57:39] \"\u001b[37mGET /data/experiments HTTP/1.1\u001b[0m\" 200 -\n",
      "I1217 18:57:39.198792 139922447931136 _internal.py:113] ::ffff:10.15.0.128 - - [17/Dec/2020 18:57:39] \"\u001b[37mGET /data/environment HTTP/1.1\u001b[0m\" 200 -\n",
      "I1217 18:57:39.201329 139923037230848 _internal.py:113] ::ffff:10.15.0.128 - - [17/Dec/2020 18:57:39] \"\u001b[37mGET /data/runs HTTP/1.1\u001b[0m\" 200 -\n",
      "I1217 18:57:39.208832 139923079177984 _internal.py:113] ::ffff:10.15.0.128 - - [17/Dec/2020 18:57:39] \"\u001b[37mGET /data/plugins_listing HTTP/1.1\u001b[0m\" 200 -\n",
      "I1217 18:57:39.341945 139923079177984 _internal.py:113] ::ffff:10.15.0.128 - - [17/Dec/2020 18:57:39] \"\u001b[37mGET /data/plugin/scalars/tags HTTP/1.1\u001b[0m\" 200 -\n",
      "I1217 18:58:10.259241 139923079177984 _internal.py:113] ::ffff:10.15.0.128 - - [17/Dec/2020 18:58:10] \"\u001b[37mGET /data/environment HTTP/1.1\u001b[0m\" 200 -\n",
      "I1217 18:58:10.264864 139922447931136 _internal.py:113] ::ffff:10.15.0.128 - - [17/Dec/2020 18:58:10] \"\u001b[37mGET /data/plugins_listing HTTP/1.1\u001b[0m\" 200 -\n",
      "I1217 18:58:10.267021 139923121125120 _internal.py:113] ::ffff:10.15.0.128 - - [17/Dec/2020 18:58:10] \"\u001b[37mGET /data/runs HTTP/1.1\u001b[0m\" 200 -\n",
      "I1217 18:58:10.270237 139923037230848 _internal.py:113] ::ffff:10.15.0.128 - - [17/Dec/2020 18:58:10] \"\u001b[37mGET /data/experiments HTTP/1.1\u001b[0m\" 200 -\n",
      "I1217 18:58:10.395154 139923037230848 _internal.py:113] ::ffff:10.15.0.128 - - [17/Dec/2020 18:58:10] \"\u001b[37mGET /data/plugin/scalars/tags HTTP/1.1\u001b[0m\" 200 -\n",
      "I1217 18:58:41.196935 139923121125120 _internal.py:113] ::ffff:10.15.0.128 - - [17/Dec/2020 18:58:41] \"\u001b[37mGET /data/environment HTTP/1.1\u001b[0m\" 200 -\n",
      "I1217 18:58:41.201727 139922447931136 _internal.py:113] ::ffff:10.15.0.128 - - [17/Dec/2020 18:58:41] \"\u001b[37mGET /data/runs HTTP/1.1\u001b[0m\" 200 -\n",
      "I1217 18:58:41.206475 139923079177984 _internal.py:113] ::ffff:10.15.0.128 - - [17/Dec/2020 18:58:41] \"\u001b[37mGET /data/experiments HTTP/1.1\u001b[0m\" 200 -\n",
      "I1217 18:58:41.207138 139923037230848 _internal.py:113] ::ffff:10.15.0.128 - - [17/Dec/2020 18:58:41] \"\u001b[37mGET /data/plugins_listing HTTP/1.1\u001b[0m\" 200 -\n",
      "I1217 18:58:41.331945 139923037230848 _internal.py:113] ::ffff:10.15.0.128 - - [17/Dec/2020 18:58:41] \"\u001b[37mGET /data/plugin/scalars/tags HTTP/1.1\u001b[0m\" 200 -\n",
      "I1217 18:59:12.211117 139923079177984 _internal.py:113] ::ffff:10.15.0.128 - - [17/Dec/2020 18:59:12] \"\u001b[37mGET /data/environment HTTP/1.1\u001b[0m\" 200 -\n",
      "I1217 18:59:12.212229 139922447931136 _internal.py:113] ::ffff:10.15.0.128 - - [17/Dec/2020 18:59:12] \"\u001b[37mGET /data/runs HTTP/1.1\u001b[0m\" 200 -\n",
      "I1217 18:59:12.215057 139923121125120 _internal.py:113] ::ffff:10.15.0.128 - - [17/Dec/2020 18:59:12] \"\u001b[37mGET /data/experiments HTTP/1.1\u001b[0m\" 200 -\n",
      "I1217 18:59:12.218992 139923037230848 _internal.py:113] ::ffff:10.15.0.128 - - [17/Dec/2020 18:59:12] \"\u001b[37mGET /data/plugins_listing HTTP/1.1\u001b[0m\" 200 -\n",
      "I1217 18:59:12.367072 139923037230848 _internal.py:113] ::ffff:10.15.0.128 - - [17/Dec/2020 18:59:12] \"\u001b[37mGET /data/plugin/scalars/tags HTTP/1.1\u001b[0m\" 200 -\n",
      "I1217 18:59:43.194889 139923121125120 _internal.py:113] ::ffff:10.15.0.128 - - [17/Dec/2020 18:59:43] \"\u001b[37mGET /data/environment HTTP/1.1\u001b[0m\" 200 -\n",
      "I1217 18:59:43.197430 139922447931136 _internal.py:113] ::ffff:10.15.0.128 - - [17/Dec/2020 18:59:43] \"\u001b[37mGET /data/runs HTTP/1.1\u001b[0m\" 200 -\n",
      "I1217 18:59:43.205231 139923079177984 _internal.py:113] ::ffff:10.15.0.128 - - [17/Dec/2020 18:59:43] \"\u001b[37mGET /data/experiments HTTP/1.1\u001b[0m\" 200 -\n",
      "I1217 18:59:43.206400 139923037230848 _internal.py:113] ::ffff:10.15.0.128 - - [17/Dec/2020 18:59:43] \"\u001b[37mGET /data/plugins_listing HTTP/1.1\u001b[0m\" 200 -\n",
      "I1217 18:59:43.329269 139923037230848 _internal.py:113] ::ffff:10.15.0.128 - - [17/Dec/2020 18:59:43] \"\u001b[37mGET /data/plugin/scalars/tags HTTP/1.1\u001b[0m\" 200 -\n",
      "I1217 19:00:14.199801 139922447931136 _internal.py:113] ::ffff:10.15.0.128 - - [17/Dec/2020 19:00:14] \"\u001b[37mGET /data/runs HTTP/1.1\u001b[0m\" 200 -\n",
      "I1217 19:00:14.200756 139923079177984 _internal.py:113] ::ffff:10.15.0.128 - - [17/Dec/2020 19:00:14] \"\u001b[37mGET /data/environment HTTP/1.1\u001b[0m\" 200 -\n",
      "I1217 19:00:14.203069 139923121125120 _internal.py:113] ::ffff:10.15.0.128 - - [17/Dec/2020 19:00:14] \"\u001b[37mGET /data/experiments HTTP/1.1\u001b[0m\" 200 -\n",
      "I1217 19:00:14.208693 139923037230848 _internal.py:113] ::ffff:10.15.0.128 - - [17/Dec/2020 19:00:14] \"\u001b[37mGET /data/plugins_listing HTTP/1.1\u001b[0m\" 200 -\n",
      "I1217 19:00:14.334125 139923037230848 _internal.py:113] ::ffff:10.15.0.128 - - [17/Dec/2020 19:00:14] \"\u001b[37mGET /data/plugin/scalars/tags HTTP/1.1\u001b[0m\" 200 -\n",
      "I1217 19:00:45.191930 139923121125120 _internal.py:113] ::ffff:10.15.0.128 - - [17/Dec/2020 19:00:45] \"\u001b[37mGET /data/environment HTTP/1.1\u001b[0m\" 200 -\n",
      "I1217 19:00:45.192144 139923037230848 _internal.py:113] ::ffff:10.15.0.128 - - [17/Dec/2020 19:00:45] \"\u001b[37mGET /data/plugins_listing HTTP/1.1\u001b[0m\" 200 -\n",
      "I1217 19:00:45.193089 139922447931136 _internal.py:113] ::ffff:10.15.0.128 - - [17/Dec/2020 19:00:45] \"\u001b[37mGET /data/experiments HTTP/1.1\u001b[0m\" 200 -\n",
      "I1217 19:00:45.193301 139923079177984 _internal.py:113] ::ffff:10.15.0.128 - - [17/Dec/2020 19:00:45] \"\u001b[37mGET /data/runs HTTP/1.1\u001b[0m\" 200 -\n",
      "I1217 19:00:45.355280 139923079177984 _internal.py:113] ::ffff:10.15.0.128 - - [17/Dec/2020 19:00:45] \"\u001b[37mGET /data/plugin/scalars/tags HTTP/1.1\u001b[0m\" 200 -\n",
      "I1217 19:01:17.788182 139923037230848 _internal.py:113] ::ffff:10.15.0.128 - - [17/Dec/2020 19:01:17] \"\u001b[37mGET /data/runs HTTP/1.1\u001b[0m\" 200 -\n",
      "I1217 19:01:17.789735 139922447931136 _internal.py:113] ::ffff:10.15.0.128 - - [17/Dec/2020 19:01:17] \"\u001b[37mGET /data/environment HTTP/1.1\u001b[0m\" 200 -\n",
      "I1217 19:01:17.796833 139923121125120 _internal.py:113] ::ffff:10.15.0.128 - - [17/Dec/2020 19:01:17] \"\u001b[37mGET /data/experiments HTTP/1.1\u001b[0m\" 200 -\n",
      "I1217 19:01:17.798006 139923079177984 _internal.py:113] ::ffff:10.15.0.128 - - [17/Dec/2020 19:01:17] \"\u001b[37mGET /data/plugins_listing HTTP/1.1\u001b[0m\" 200 -\n",
      "I1217 19:01:17.921635 139923079177984 _internal.py:113] ::ffff:10.15.0.128 - - [17/Dec/2020 19:01:17] \"\u001b[37mGET /data/plugin/scalars/tags HTTP/1.1\u001b[0m\" 200 -\n",
      "I1217 19:01:48.273225 139922447931136 _internal.py:113] ::ffff:10.15.0.128 - - [17/Dec/2020 19:01:48] \"\u001b[37mGET /data/runs HTTP/1.1\u001b[0m\" 200 -\n",
      "I1217 19:01:48.273980 139923121125120 _internal.py:113] ::ffff:10.15.0.128 - - [17/Dec/2020 19:01:48] \"\u001b[37mGET /data/environment HTTP/1.1\u001b[0m\" 200 -\n",
      "I1217 19:01:48.274553 139923037230848 _internal.py:113] ::ffff:10.15.0.128 - - [17/Dec/2020 19:01:48] \"\u001b[37mGET /data/experiments HTTP/1.1\u001b[0m\" 200 -\n",
      "I1217 19:01:48.275979 139923079177984 _internal.py:113] ::ffff:10.15.0.128 - - [17/Dec/2020 19:01:48] \"\u001b[37mGET /data/plugins_listing HTTP/1.1\u001b[0m\" 200 -\n",
      "I1217 19:01:48.400978 139923079177984 _internal.py:113] ::ffff:10.15.0.128 - - [17/Dec/2020 19:01:48] \"\u001b[37mGET /data/plugin/scalars/tags HTTP/1.1\u001b[0m\" 200 -\n",
      "I1217 19:02:19.195007 139923121125120 _internal.py:113] ::ffff:10.15.0.128 - - [17/Dec/2020 19:02:19] \"\u001b[37mGET /data/runs HTTP/1.1\u001b[0m\" 200 -\n",
      "I1217 19:02:19.195976 139923037230848 _internal.py:113] ::ffff:10.15.0.128 - - [17/Dec/2020 19:02:19] \"\u001b[37mGET /data/environment HTTP/1.1\u001b[0m\" 200 -\n",
      "I1217 19:02:19.198028 139922447931136 _internal.py:113] ::ffff:10.15.0.128 - - [17/Dec/2020 19:02:19] \"\u001b[37mGET /data/experiments HTTP/1.1\u001b[0m\" 200 -\n",
      "I1217 19:02:19.205030 139923079177984 _internal.py:113] ::ffff:10.15.0.128 - - [17/Dec/2020 19:02:19] \"\u001b[37mGET /data/plugins_listing HTTP/1.1\u001b[0m\" 200 -\n",
      "I1217 19:02:19.326666 139923079177984 _internal.py:113] ::ffff:10.15.0.128 - - [17/Dec/2020 19:02:19] \"\u001b[37mGET /data/plugin/scalars/tags HTTP/1.1\u001b[0m\" 200 -\n",
      "I1217 19:02:50.222152 139923037230848 _internal.py:113] ::ffff:10.15.0.128 - - [17/Dec/2020 19:02:50] \"\u001b[37mGET /data/runs HTTP/1.1\u001b[0m\" 200 -\n",
      "I1217 19:02:50.224918 139922447931136 _internal.py:113] ::ffff:10.15.0.128 - - [17/Dec/2020 19:02:50] \"\u001b[37mGET /data/environment HTTP/1.1\u001b[0m\" 200 -\n",
      "I1217 19:02:50.228597 139923121125120 _internal.py:113] ::ffff:10.15.0.128 - - [17/Dec/2020 19:02:50] \"\u001b[37mGET /data/experiments HTTP/1.1\u001b[0m\" 200 -\n",
      "I1217 19:02:50.232834 139923079177984 _internal.py:113] ::ffff:10.15.0.128 - - [17/Dec/2020 19:02:50] \"\u001b[37mGET /data/plugins_listing HTTP/1.1\u001b[0m\" 200 -\n",
      "I1217 19:02:50.365664 139923079177984 _internal.py:113] ::ffff:10.15.0.128 - - [17/Dec/2020 19:02:50] \"\u001b[37mGET /data/plugin/scalars/tags HTTP/1.1\u001b[0m\" 200 -\n",
      "I1217 19:03:21.202780 139923121125120 _internal.py:113] ::ffff:10.15.0.128 - - [17/Dec/2020 19:03:21] \"\u001b[37mGET /data/environment HTTP/1.1\u001b[0m\" 200 -\n",
      "I1217 19:03:21.206354 139923037230848 _internal.py:113] ::ffff:10.15.0.128 - - [17/Dec/2020 19:03:21] \"\u001b[37mGET /data/experiments HTTP/1.1\u001b[0m\" 200 -\n",
      "I1217 19:03:21.207084 139922447931136 _internal.py:113] ::ffff:10.15.0.128 - - [17/Dec/2020 19:03:21] \"\u001b[37mGET /data/runs HTTP/1.1\u001b[0m\" 200 -\n",
      "I1217 19:03:21.212137 139923079177984 _internal.py:113] ::ffff:10.15.0.128 - - [17/Dec/2020 19:03:21] \"\u001b[37mGET /data/plugins_listing HTTP/1.1\u001b[0m\" 200 -\n",
      "I1217 19:03:21.333113 139923079177984 _internal.py:113] ::ffff:10.15.0.128 - - [17/Dec/2020 19:03:21] \"\u001b[37mGET /data/plugin/scalars/tags HTTP/1.1\u001b[0m\" 200 -\n",
      "I1217 19:03:52.198288 139923037230848 _internal.py:113] ::ffff:10.15.0.128 - - [17/Dec/2020 19:03:52] \"\u001b[37mGET /data/runs HTTP/1.1\u001b[0m\" 200 -\n",
      "I1217 19:03:52.199280 139922447931136 _internal.py:113] ::ffff:10.15.0.128 - - [17/Dec/2020 19:03:52] \"\u001b[37mGET /data/environment HTTP/1.1\u001b[0m\" 200 -\n",
      "I1217 19:03:52.201997 139923121125120 _internal.py:113] ::ffff:10.15.0.128 - - [17/Dec/2020 19:03:52] \"\u001b[37mGET /data/experiments HTTP/1.1\u001b[0m\" 200 -\n",
      "I1217 19:03:52.202960 139923079177984 _internal.py:113] ::ffff:10.15.0.128 - - [17/Dec/2020 19:03:52] \"\u001b[37mGET /data/plugins_listing HTTP/1.1\u001b[0m\" 200 -\n",
      "I1217 19:03:52.323962 139923079177984 _internal.py:113] ::ffff:10.15.0.128 - - [17/Dec/2020 19:03:52] \"\u001b[37mGET /data/plugin/scalars/tags HTTP/1.1\u001b[0m\" 200 -\n",
      "I1217 19:04:23.204080 139922447931136 _internal.py:113] ::ffff:10.15.0.128 - - [17/Dec/2020 19:04:23] \"\u001b[37mGET /data/runs HTTP/1.1\u001b[0m\" 200 -\n",
      "I1217 19:04:23.208422 139923037230848 _internal.py:113] ::ffff:10.15.0.128 - - [17/Dec/2020 19:04:23] \"\u001b[37mGET /data/experiments HTTP/1.1\u001b[0m\" 200 -\n",
      "I1217 19:04:23.209505 139923121125120 _internal.py:113] ::ffff:10.15.0.128 - - [17/Dec/2020 19:04:23] \"\u001b[37mGET /data/environment HTTP/1.1\u001b[0m\" 200 -\n",
      "I1217 19:04:23.214974 139923079177984 _internal.py:113] ::ffff:10.15.0.128 - - [17/Dec/2020 19:04:23] \"\u001b[37mGET /data/plugins_listing HTTP/1.1\u001b[0m\" 200 -\n",
      "I1217 19:04:23.337002 139923079177984 _internal.py:113] ::ffff:10.15.0.128 - - [17/Dec/2020 19:04:23] \"\u001b[37mGET /data/plugin/scalars/tags HTTP/1.1\u001b[0m\" 200 -\n",
      "I1217 19:04:54.195586 139922447931136 _internal.py:113] ::ffff:10.15.0.128 - - [17/Dec/2020 19:04:54] \"\u001b[37mGET /data/experiments HTTP/1.1\u001b[0m\" 200 -\n",
      "I1217 19:04:54.196544 139923121125120 _internal.py:113] ::ffff:10.15.0.128 - - [17/Dec/2020 19:04:54] \"\u001b[37mGET /data/environment HTTP/1.1\u001b[0m\" 200 -\n",
      "I1217 19:04:54.200537 139923037230848 _internal.py:113] ::ffff:10.15.0.128 - - [17/Dec/2020 19:04:54] \"\u001b[37mGET /data/runs HTTP/1.1\u001b[0m\" 200 -\n",
      "I1217 19:04:54.204763 139923079177984 _internal.py:113] ::ffff:10.15.0.128 - - [17/Dec/2020 19:04:54] \"\u001b[37mGET /data/plugins_listing HTTP/1.1\u001b[0m\" 200 -\n",
      "I1217 19:04:54.327784 139923079177984 _internal.py:113] ::ffff:10.15.0.128 - - [17/Dec/2020 19:04:54] \"\u001b[37mGET /data/plugin/scalars/tags HTTP/1.1\u001b[0m\" 200 -\n",
      "I1217 19:05:25.194425 139922447931136 _internal.py:113] ::ffff:10.15.0.128 - - [17/Dec/2020 19:05:25] \"\u001b[37mGET /data/experiments HTTP/1.1\u001b[0m\" 200 -\n",
      "I1217 19:05:25.195438 139923037230848 _internal.py:113] ::ffff:10.15.0.128 - - [17/Dec/2020 19:05:25] \"\u001b[37mGET /data/environment HTTP/1.1\u001b[0m\" 200 -\n",
      "I1217 19:05:25.197954 139923121125120 _internal.py:113] ::ffff:10.15.0.128 - - [17/Dec/2020 19:05:25] \"\u001b[37mGET /data/runs HTTP/1.1\u001b[0m\" 200 -\n",
      "I1217 19:05:25.205127 139923079177984 _internal.py:113] ::ffff:10.15.0.128 - - [17/Dec/2020 19:05:25] \"\u001b[37mGET /data/plugins_listing HTTP/1.1\u001b[0m\" 200 -\n",
      "I1217 19:05:25.327883 139923079177984 _internal.py:113] ::ffff:10.15.0.128 - - [17/Dec/2020 19:05:25] \"\u001b[37mGET /data/plugin/scalars/tags HTTP/1.1\u001b[0m\" 200 -\n",
      "I1217 19:05:56.237090 139923121125120 _internal.py:113] ::ffff:10.15.0.128 - - [17/Dec/2020 19:05:56] \"\u001b[37mGET /data/environment HTTP/1.1\u001b[0m\" 200 -\n",
      "I1217 19:05:56.241659 139923079177984 _internal.py:113] ::ffff:10.15.0.128 - - [17/Dec/2020 19:05:56] \"\u001b[37mGET /data/plugins_listing HTTP/1.1\u001b[0m\" 200 -\n",
      "I1217 19:05:56.243775 139923037230848 _internal.py:113] ::ffff:10.15.0.128 - - [17/Dec/2020 19:05:56] \"\u001b[37mGET /data/runs HTTP/1.1\u001b[0m\" 200 -\n",
      "I1217 19:05:56.246354 139922447931136 _internal.py:113] ::ffff:10.15.0.128 - - [17/Dec/2020 19:05:56] \"\u001b[37mGET /data/experiments HTTP/1.1\u001b[0m\" 200 -\n",
      "I1217 19:05:56.370620 139922447931136 _internal.py:113] ::ffff:10.15.0.128 - - [17/Dec/2020 19:05:56] \"\u001b[37mGET /data/plugin/scalars/tags HTTP/1.1\u001b[0m\" 200 -\n",
      "I1217 19:06:27.250711 139923079177984 _internal.py:113] ::ffff:10.15.0.128 - - [17/Dec/2020 19:06:27] \"\u001b[37mGET /data/runs HTTP/1.1\u001b[0m\" 200 -\n",
      "I1217 19:06:27.251801 139923037230848 _internal.py:113] ::ffff:10.15.0.128 - - [17/Dec/2020 19:06:27] \"\u001b[37mGET /data/environment HTTP/1.1\u001b[0m\" 200 -\n",
      "I1217 19:06:27.259529 139922447931136 _internal.py:113] ::ffff:10.15.0.128 - - [17/Dec/2020 19:06:27] \"\u001b[37mGET /data/plugins_listing HTTP/1.1\u001b[0m\" 200 -\n",
      "I1217 19:06:27.260932 139923121125120 _internal.py:113] ::ffff:10.15.0.128 - - [17/Dec/2020 19:06:27] \"\u001b[37mGET /data/experiments HTTP/1.1\u001b[0m\" 200 -\n",
      "I1217 19:06:27.402796 139923121125120 _internal.py:113] ::ffff:10.15.0.128 - - [17/Dec/2020 19:06:27] \"\u001b[37mGET /data/plugin/scalars/tags HTTP/1.1\u001b[0m\" 200 -\n",
      "I1217 19:06:58.206200 139922447931136 _internal.py:113] ::ffff:10.15.0.128 - - [17/Dec/2020 19:06:58] \"\u001b[37mGET /data/environment HTTP/1.1\u001b[0m\" 200 -\n",
      "I1217 19:06:58.209206 139923079177984 _internal.py:113] ::ffff:10.15.0.128 - - [17/Dec/2020 19:06:58] \"\u001b[37mGET /data/experiments HTTP/1.1\u001b[0m\" 200 -\n",
      "I1217 19:06:58.211807 139923037230848 _internal.py:113] ::ffff:10.15.0.128 - - [17/Dec/2020 19:06:58] \"\u001b[37mGET /data/runs HTTP/1.1\u001b[0m\" 200 -\n",
      "I1217 19:06:58.217983 139923121125120 _internal.py:113] ::ffff:10.15.0.128 - - [17/Dec/2020 19:06:58] \"\u001b[37mGET /data/plugins_listing HTTP/1.1\u001b[0m\" 200 -\n",
      "I1217 19:06:58.401973 139923121125120 _internal.py:113] ::ffff:10.15.0.128 - - [17/Dec/2020 19:06:58] \"\u001b[37mGET /data/plugin/scalars/tags HTTP/1.1\u001b[0m\" 200 -\n",
      "I1217 19:07:29.198428 139922447931136 _internal.py:113] ::ffff:10.15.0.128 - - [17/Dec/2020 19:07:29] \"\u001b[37mGET /data/experiments HTTP/1.1\u001b[0m\" 200 -\n",
      "I1217 19:07:29.202602 139923037230848 _internal.py:113] ::ffff:10.15.0.128 - - [17/Dec/2020 19:07:29] \"\u001b[37mGET /data/environment HTTP/1.1\u001b[0m\" 200 -\n",
      "I1217 19:07:29.204267 139923079177984 _internal.py:113] ::ffff:10.15.0.128 - - [17/Dec/2020 19:07:29] \"\u001b[37mGET /data/runs HTTP/1.1\u001b[0m\" 200 -\n",
      "I1217 19:07:29.208636 139923121125120 _internal.py:113] ::ffff:10.15.0.128 - - [17/Dec/2020 19:07:29] \"\u001b[37mGET /data/plugins_listing HTTP/1.1\u001b[0m\" 200 -\n",
      "I1217 19:07:29.409880 139923121125120 _internal.py:113] ::ffff:10.15.0.128 - - [17/Dec/2020 19:07:29] \"\u001b[37mGET /data/plugin/scalars/tags HTTP/1.1\u001b[0m\" 200 -\n",
      "I1217 19:08:00.205595 139922447931136 _internal.py:113] ::ffff:10.15.0.128 - - [17/Dec/2020 19:08:00] \"\u001b[37mGET /data/experiments HTTP/1.1\u001b[0m\" 200 -\n",
      "I1217 19:08:00.207148 139923079177984 _internal.py:113] ::ffff:10.15.0.128 - - [17/Dec/2020 19:08:00] \"\u001b[37mGET /data/environment HTTP/1.1\u001b[0m\" 200 -\n",
      "I1217 19:08:00.209413 139923037230848 _internal.py:113] ::ffff:10.15.0.128 - - [17/Dec/2020 19:08:00] \"\u001b[37mGET /data/runs HTTP/1.1\u001b[0m\" 200 -\n",
      "I1217 19:08:00.215870 139923121125120 _internal.py:113] ::ffff:10.15.0.128 - - [17/Dec/2020 19:08:00] \"\u001b[37mGET /data/plugins_listing HTTP/1.1\u001b[0m\" 200 -\n",
      "I1217 19:08:00.429015 139923121125120 _internal.py:113] ::ffff:10.15.0.128 - - [17/Dec/2020 19:08:00] \"\u001b[37mGET /data/plugin/scalars/tags HTTP/1.1\u001b[0m\" 200 -\n",
      "I1217 19:08:31.200593 139922447931136 _internal.py:113] ::ffff:10.15.0.128 - - [17/Dec/2020 19:08:31] \"\u001b[37mGET /data/experiments HTTP/1.1\u001b[0m\" 200 -\n",
      "I1217 19:08:31.202569 139923037230848 _internal.py:113] ::ffff:10.15.0.128 - - [17/Dec/2020 19:08:31] \"\u001b[37mGET /data/environment HTTP/1.1\u001b[0m\" 200 -\n",
      "I1217 19:08:31.208818 139923121125120 _internal.py:113] ::ffff:10.15.0.128 - - [17/Dec/2020 19:08:31] \"\u001b[37mGET /data/plugins_listing HTTP/1.1\u001b[0m\" 200 -\n",
      "I1217 19:08:31.210298 139923079177984 _internal.py:113] ::ffff:10.15.0.128 - - [17/Dec/2020 19:08:31] \"\u001b[37mGET /data/runs HTTP/1.1\u001b[0m\" 200 -\n",
      "I1217 19:08:31.355817 139923079177984 _internal.py:113] ::ffff:10.15.0.128 - - [17/Dec/2020 19:08:31] \"\u001b[37mGET /data/plugin/scalars/tags HTTP/1.1\u001b[0m\" 200 -\n",
      "I1217 19:09:02.199507 139923121125120 _internal.py:113] ::ffff:10.15.0.128 - - [17/Dec/2020 19:09:02] \"\u001b[37mGET /data/environment HTTP/1.1\u001b[0m\" 200 -\n",
      "I1217 19:09:02.201129 139923037230848 _internal.py:113] ::ffff:10.15.0.128 - - [17/Dec/2020 19:09:02] \"\u001b[37mGET /data/runs HTTP/1.1\u001b[0m\" 200 -\n",
      "I1217 19:09:02.203938 139922447931136 _internal.py:113] ::ffff:10.15.0.128 - - [17/Dec/2020 19:09:02] \"\u001b[37mGET /data/experiments HTTP/1.1\u001b[0m\" 200 -\n",
      "I1217 19:09:02.209486 139923079177984 _internal.py:113] ::ffff:10.15.0.128 - - [17/Dec/2020 19:09:02] \"\u001b[37mGET /data/plugins_listing HTTP/1.1\u001b[0m\" 200 -\n",
      "I1217 19:09:02.731849 139923079177984 _internal.py:113] ::ffff:10.15.0.128 - - [17/Dec/2020 19:09:02] \"\u001b[37mGET /data/plugin/scalars/tags HTTP/1.1\u001b[0m\" 200 -\n",
      "I1217 19:09:33.199597 139923121125120 _internal.py:113] ::ffff:10.15.0.128 - - [17/Dec/2020 19:09:33] \"\u001b[37mGET /data/experiments HTTP/1.1\u001b[0m\" 200 -\n",
      "I1217 19:09:33.206093 139923079177984 _internal.py:113] ::ffff:10.15.0.128 - - [17/Dec/2020 19:09:33] \"\u001b[37mGET /data/plugins_listing HTTP/1.1\u001b[0m\" 200 -\n",
      "I1217 19:09:33.207438 139923037230848 _internal.py:113] ::ffff:10.15.0.128 - - [17/Dec/2020 19:09:33] \"\u001b[37mGET /data/runs HTTP/1.1\u001b[0m\" 200 -\n",
      "I1217 19:09:33.208734 139922447931136 _internal.py:113] ::ffff:10.15.0.128 - - [17/Dec/2020 19:09:33] \"\u001b[37mGET /data/environment HTTP/1.1\u001b[0m\" 200 -\n",
      "I1217 19:09:33.357729 139922447931136 _internal.py:113] ::ffff:10.15.0.128 - - [17/Dec/2020 19:09:33] \"\u001b[37mGET /data/plugin/scalars/tags HTTP/1.1\u001b[0m\" 200 -\n",
      "I1217 19:10:04.199070 139923121125120 _internal.py:113] ::ffff:10.15.0.128 - - [17/Dec/2020 19:10:04] \"\u001b[37mGET /data/experiments HTTP/1.1\u001b[0m\" 200 -\n",
      "I1217 19:10:04.200952 139923037230848 _internal.py:113] ::ffff:10.15.0.128 - - [17/Dec/2020 19:10:04] \"\u001b[37mGET /data/environment HTTP/1.1\u001b[0m\" 200 -\n",
      "I1217 19:10:04.206382 139923079177984 _internal.py:113] ::ffff:10.15.0.128 - - [17/Dec/2020 19:10:04] \"\u001b[37mGET /data/runs HTTP/1.1\u001b[0m\" 200 -\n",
      "I1217 19:10:04.207172 139922447931136 _internal.py:113] ::ffff:10.15.0.128 - - [17/Dec/2020 19:10:04] \"\u001b[37mGET /data/plugins_listing HTTP/1.1\u001b[0m\" 200 -\n",
      "I1217 19:10:04.340443 139922447931136 _internal.py:113] ::ffff:10.15.0.128 - - [17/Dec/2020 19:10:04] \"\u001b[37mGET /data/plugin/scalars/tags HTTP/1.1\u001b[0m\" 200 -\n",
      "I1217 19:10:35.192788 139922447931136 _internal.py:113] ::ffff:10.15.0.128 - - [17/Dec/2020 19:10:35] \"\u001b[37mGET /data/plugins_listing HTTP/1.1\u001b[0m\" 200 -\n",
      "I1217 19:10:35.193696 139923079177984 _internal.py:113] ::ffff:10.15.0.128 - - [17/Dec/2020 19:10:35] \"\u001b[37mGET /data/environment HTTP/1.1\u001b[0m\" 200 -\n",
      "I1217 19:10:35.194564 139923037230848 _internal.py:113] ::ffff:10.15.0.128 - - [17/Dec/2020 19:10:35] \"\u001b[37mGET /data/runs HTTP/1.1\u001b[0m\" 200 -\n",
      "I1217 19:10:35.195384 139923121125120 _internal.py:113] ::ffff:10.15.0.128 - - [17/Dec/2020 19:10:35] \"\u001b[37mGET /data/experiments HTTP/1.1\u001b[0m\" 200 -\n",
      "I1217 19:10:35.350292 139923121125120 _internal.py:113] ::ffff:10.15.0.128 - - [17/Dec/2020 19:10:35] \"\u001b[37mGET /data/plugin/scalars/tags HTTP/1.1\u001b[0m\" 200 -\n",
      "I1217 19:11:06.198286 139923079177984 _internal.py:113] ::ffff:10.15.0.128 - - [17/Dec/2020 19:11:06] \"\u001b[37mGET /data/runs HTTP/1.1\u001b[0m\" 200 -\n",
      "I1217 19:11:06.202547 139923037230848 _internal.py:113] ::ffff:10.15.0.128 - - [17/Dec/2020 19:11:06] \"\u001b[37mGET /data/environment HTTP/1.1\u001b[0m\" 200 -\n",
      "I1217 19:11:06.203517 139922447931136 _internal.py:113] ::ffff:10.15.0.128 - - [17/Dec/2020 19:11:06] \"\u001b[37mGET /data/experiments HTTP/1.1\u001b[0m\" 200 -\n",
      "I1217 19:11:06.208884 139923121125120 _internal.py:113] ::ffff:10.15.0.128 - - [17/Dec/2020 19:11:06] \"\u001b[37mGET /data/plugins_listing HTTP/1.1\u001b[0m\" 200 -\n",
      "I1217 19:11:06.330696 139923121125120 _internal.py:113] ::ffff:10.15.0.128 - - [17/Dec/2020 19:11:06] \"\u001b[37mGET /data/plugin/scalars/tags HTTP/1.1\u001b[0m\" 200 -\n",
      "I1217 19:11:37.200447 139923079177984 _internal.py:113] ::ffff:10.15.0.128 - - [17/Dec/2020 19:11:37] \"\u001b[37mGET /data/experiments HTTP/1.1\u001b[0m\" 200 -\n",
      "I1217 19:11:37.201405 139922447931136 _internal.py:113] ::ffff:10.15.0.128 - - [17/Dec/2020 19:11:37] \"\u001b[37mGET /data/environment HTTP/1.1\u001b[0m\" 200 -\n",
      "I1217 19:11:37.203284 139923037230848 _internal.py:113] ::ffff:10.15.0.128 - - [17/Dec/2020 19:11:37] \"\u001b[37mGET /data/runs HTTP/1.1\u001b[0m\" 200 -\n",
      "I1217 19:11:37.207356 139923121125120 _internal.py:113] ::ffff:10.15.0.128 - - [17/Dec/2020 19:11:37] \"\u001b[37mGET /data/plugins_listing HTTP/1.1\u001b[0m\" 200 -\n",
      "I1217 19:11:37.342313 139923121125120 _internal.py:113] ::ffff:10.15.0.128 - - [17/Dec/2020 19:11:37] \"\u001b[37mGET /data/plugin/scalars/tags HTTP/1.1\u001b[0m\" 200 -\n",
      "I1217 19:12:08.200537 139922447931136 _internal.py:113] ::ffff:10.15.0.128 - - [17/Dec/2020 19:12:08] \"\u001b[37mGET /data/runs HTTP/1.1\u001b[0m\" 200 -\n",
      "I1217 19:12:08.205605 139923037230848 _internal.py:113] ::ffff:10.15.0.128 - - [17/Dec/2020 19:12:08] \"\u001b[37mGET /data/environment HTTP/1.1\u001b[0m\" 200 -\n",
      "I1217 19:12:08.206794 139923079177984 _internal.py:113] ::ffff:10.15.0.128 - - [17/Dec/2020 19:12:08] \"\u001b[37mGET /data/experiments HTTP/1.1\u001b[0m\" 200 -\n",
      "I1217 19:12:08.211228 139923121125120 _internal.py:113] ::ffff:10.15.0.128 - - [17/Dec/2020 19:12:08] \"\u001b[37mGET /data/plugins_listing HTTP/1.1\u001b[0m\" 200 -\n",
      "I1217 19:12:08.337593 139923121125120 _internal.py:113] ::ffff:10.15.0.128 - - [17/Dec/2020 19:12:08] \"\u001b[37mGET /data/plugin/scalars/tags HTTP/1.1\u001b[0m\" 200 -\n",
      "I1217 19:12:39.208638 139923037230848 _internal.py:113] ::ffff:10.15.0.128 - - [17/Dec/2020 19:12:39] \"\u001b[37mGET /data/runs HTTP/1.1\u001b[0m\" 200 -\n",
      "I1217 19:12:39.213956 139922447931136 _internal.py:113] ::ffff:10.15.0.128 - - [17/Dec/2020 19:12:39] \"\u001b[37mGET /data/experiments HTTP/1.1\u001b[0m\" 200 -\n",
      "I1217 19:12:39.217027 139923079177984 _internal.py:113] ::ffff:10.15.0.128 - - [17/Dec/2020 19:12:39] \"\u001b[37mGET /data/environment HTTP/1.1\u001b[0m\" 200 -\n",
      "I1217 19:12:39.220963 139923121125120 _internal.py:113] ::ffff:10.15.0.128 - - [17/Dec/2020 19:12:39] \"\u001b[37mGET /data/plugins_listing HTTP/1.1\u001b[0m\" 200 -\n",
      "I1217 19:12:39.365379 139923121125120 _internal.py:113] ::ffff:10.15.0.128 - - [17/Dec/2020 19:12:39] \"\u001b[37mGET /data/plugin/scalars/tags HTTP/1.1\u001b[0m\" 200 -\n",
      "I1217 19:13:10.197305 139923079177984 _internal.py:113] ::ffff:10.15.0.128 - - [17/Dec/2020 19:13:10] \"\u001b[37mGET /data/environment HTTP/1.1\u001b[0m\" 200 -\n",
      "I1217 19:13:10.199692 139922447931136 _internal.py:113] ::ffff:10.15.0.128 - - [17/Dec/2020 19:13:10] \"\u001b[37mGET /data/runs HTTP/1.1\u001b[0m\" 200 -\n",
      "I1217 19:13:10.203652 139923037230848 _internal.py:113] ::ffff:10.15.0.128 - - [17/Dec/2020 19:13:10] \"\u001b[37mGET /data/experiments HTTP/1.1\u001b[0m\" 200 -\n",
      "I1217 19:13:10.208878 139923121125120 _internal.py:113] ::ffff:10.15.0.128 - - [17/Dec/2020 19:13:10] \"\u001b[37mGET /data/plugins_listing HTTP/1.1\u001b[0m\" 200 -\n",
      "I1217 19:13:10.333008 139923121125120 _internal.py:113] ::ffff:10.15.0.128 - - [17/Dec/2020 19:13:10] \"\u001b[37mGET /data/plugin/scalars/tags HTTP/1.1\u001b[0m\" 200 -\n",
      "I1217 19:13:41.201553 139923037230848 _internal.py:113] ::ffff:10.15.0.128 - - [17/Dec/2020 19:13:41] \"\u001b[37mGET /data/environment HTTP/1.1\u001b[0m\" 200 -\n",
      "I1217 19:13:41.204117 139923079177984 _internal.py:113] ::ffff:10.15.0.128 - - [17/Dec/2020 19:13:41] \"\u001b[37mGET /data/experiments HTTP/1.1\u001b[0m\" 200 -\n",
      "I1217 19:13:41.206150 139922447931136 _internal.py:113] ::ffff:10.15.0.128 - - [17/Dec/2020 19:13:41] \"\u001b[37mGET /data/runs HTTP/1.1\u001b[0m\" 200 -\n",
      "I1217 19:13:41.212544 139923121125120 _internal.py:113] ::ffff:10.15.0.128 - - [17/Dec/2020 19:13:41] \"\u001b[37mGET /data/plugins_listing HTTP/1.1\u001b[0m\" 200 -\n",
      "I1217 19:13:41.350863 139923121125120 _internal.py:113] ::ffff:10.15.0.128 - - [17/Dec/2020 19:13:41] \"\u001b[37mGET /data/plugin/scalars/tags HTTP/1.1\u001b[0m\" 200 -\n",
      "I1217 19:14:12.197344 139923037230848 _internal.py:113] ::ffff:10.15.0.128 - - [17/Dec/2020 19:14:12] \"\u001b[37mGET /data/experiments HTTP/1.1\u001b[0m\" 200 -\n",
      "I1217 19:14:12.200951 139923079177984 _internal.py:113] ::ffff:10.15.0.128 - - [17/Dec/2020 19:14:12] \"\u001b[37mGET /data/runs HTTP/1.1\u001b[0m\" 200 -\n",
      "I1217 19:14:12.202771 139922447931136 _internal.py:113] ::ffff:10.15.0.128 - - [17/Dec/2020 19:14:12] \"\u001b[37mGET /data/environment HTTP/1.1\u001b[0m\" 200 -\n",
      "I1217 19:14:12.208081 139923121125120 _internal.py:113] ::ffff:10.15.0.128 - - [17/Dec/2020 19:14:12] \"\u001b[37mGET /data/plugins_listing HTTP/1.1\u001b[0m\" 200 -\n",
      "I1217 19:14:12.328490 139923121125120 _internal.py:113] ::ffff:10.15.0.128 - - [17/Dec/2020 19:14:12] \"\u001b[37mGET /data/plugin/scalars/tags HTTP/1.1\u001b[0m\" 200 -\n",
      "I1217 19:14:43.197890 139922447931136 _internal.py:113] ::ffff:10.15.0.128 - - [17/Dec/2020 19:14:43] \"\u001b[37mGET /data/environment HTTP/1.1\u001b[0m\" 200 -\n",
      "I1217 19:14:43.200188 139923079177984 _internal.py:113] ::ffff:10.15.0.128 - - [17/Dec/2020 19:14:43] \"\u001b[37mGET /data/runs HTTP/1.1\u001b[0m\" 200 -\n",
      "I1217 19:14:43.203082 139923037230848 _internal.py:113] ::ffff:10.15.0.128 - - [17/Dec/2020 19:14:43] \"\u001b[37mGET /data/experiments HTTP/1.1\u001b[0m\" 200 -\n",
      "I1217 19:14:43.208636 139923121125120 _internal.py:113] ::ffff:10.15.0.128 - - [17/Dec/2020 19:14:43] \"\u001b[37mGET /data/plugins_listing HTTP/1.1\u001b[0m\" 200 -\n",
      "I1217 19:14:43.334021 139923121125120 _internal.py:113] ::ffff:10.15.0.128 - - [17/Dec/2020 19:14:43] \"\u001b[37mGET /data/plugin/scalars/tags HTTP/1.1\u001b[0m\" 200 -\n",
      "I1217 19:15:14.196623 139923037230848 _internal.py:113] ::ffff:10.15.0.128 - - [17/Dec/2020 19:15:14] \"\u001b[37mGET /data/environment HTTP/1.1\u001b[0m\" 200 -\n",
      "I1217 19:15:14.200486 139923079177984 _internal.py:113] ::ffff:10.15.0.128 - - [17/Dec/2020 19:15:14] \"\u001b[37mGET /data/runs HTTP/1.1\u001b[0m\" 200 -\n",
      "I1217 19:15:14.203374 139922447931136 _internal.py:113] ::ffff:10.15.0.128 - - [17/Dec/2020 19:15:14] \"\u001b[37mGET /data/experiments HTTP/1.1\u001b[0m\" 200 -\n",
      "I1217 19:15:14.208183 139923121125120 _internal.py:113] ::ffff:10.15.0.128 - - [17/Dec/2020 19:15:14] \"\u001b[37mGET /data/plugins_listing HTTP/1.1\u001b[0m\" 200 -\n",
      "I1217 19:15:14.350647 139923121125120 _internal.py:113] ::ffff:10.15.0.128 - - [17/Dec/2020 19:15:14] \"\u001b[37mGET /data/plugin/scalars/tags HTTP/1.1\u001b[0m\" 200 -\n",
      "I1217 19:15:45.197201 139922447931136 _internal.py:113] ::ffff:10.15.0.128 - - [17/Dec/2020 19:15:45] \"\u001b[37mGET /data/environment HTTP/1.1\u001b[0m\" 200 -\n",
      "I1217 19:15:45.201398 139923079177984 _internal.py:113] ::ffff:10.15.0.128 - - [17/Dec/2020 19:15:45] \"\u001b[37mGET /data/runs HTTP/1.1\u001b[0m\" 200 -\n",
      "I1217 19:15:45.203231 139923037230848 _internal.py:113] ::ffff:10.15.0.128 - - [17/Dec/2020 19:15:45] \"\u001b[37mGET /data/experiments HTTP/1.1\u001b[0m\" 200 -\n",
      "I1217 19:15:45.207833 139923121125120 _internal.py:113] ::ffff:10.15.0.128 - - [17/Dec/2020 19:15:45] \"\u001b[37mGET /data/plugins_listing HTTP/1.1\u001b[0m\" 200 -\n",
      "I1217 19:15:45.329996 139923121125120 _internal.py:113] ::ffff:10.15.0.128 - - [17/Dec/2020 19:15:45] \"\u001b[37mGET /data/plugin/scalars/tags HTTP/1.1\u001b[0m\" 200 -\n",
      "I1217 19:16:16.196536 139923037230848 _internal.py:113] ::ffff:10.15.0.128 - - [17/Dec/2020 19:16:16] \"\u001b[37mGET /data/environment HTTP/1.1\u001b[0m\" 200 -\n",
      "I1217 19:16:16.199128 139922447931136 _internal.py:113] ::ffff:10.15.0.128 - - [17/Dec/2020 19:16:16] \"\u001b[37mGET /data/experiments HTTP/1.1\u001b[0m\" 200 -\n",
      "I1217 19:16:16.203690 139923079177984 _internal.py:113] ::ffff:10.15.0.128 - - [17/Dec/2020 19:16:16] \"\u001b[37mGET /data/runs HTTP/1.1\u001b[0m\" 200 -\n",
      "I1217 19:16:16.207342 139923121125120 _internal.py:113] ::ffff:10.15.0.128 - - [17/Dec/2020 19:16:16] \"\u001b[37mGET /data/plugins_listing HTTP/1.1\u001b[0m\" 200 -\n",
      "I1217 19:16:16.369367 139923121125120 _internal.py:113] ::ffff:10.15.0.128 - - [17/Dec/2020 19:16:16] \"\u001b[37mGET /data/plugin/scalars/tags HTTP/1.1\u001b[0m\" 200 -\n",
      "I1217 19:16:47.194383 139923037230848 _internal.py:113] ::ffff:10.15.0.128 - - [17/Dec/2020 19:16:47] \"\u001b[37mGET /data/experiments HTTP/1.1\u001b[0m\" 200 -\n",
      "I1217 19:16:47.196905 139923079177984 _internal.py:113] ::ffff:10.15.0.128 - - [17/Dec/2020 19:16:47] \"\u001b[37mGET /data/environment HTTP/1.1\u001b[0m\" 200 -\n",
      "I1217 19:16:47.199261 139922447931136 _internal.py:113] ::ffff:10.15.0.128 - - [17/Dec/2020 19:16:47] \"\u001b[37mGET /data/runs HTTP/1.1\u001b[0m\" 200 -\n",
      "I1217 19:16:47.206376 139923121125120 _internal.py:113] ::ffff:10.15.0.128 - - [17/Dec/2020 19:16:47] \"\u001b[37mGET /data/plugins_listing HTTP/1.1\u001b[0m\" 200 -\n",
      "I1217 19:16:47.334507 139923121125120 _internal.py:113] ::ffff:10.15.0.128 - - [17/Dec/2020 19:16:47] \"\u001b[37mGET /data/plugin/scalars/tags HTTP/1.1\u001b[0m\" 200 -\n",
      "I1217 19:17:18.203968 139923079177984 _internal.py:113] ::ffff:10.15.0.128 - - [17/Dec/2020 19:17:18] \"\u001b[37mGET /data/runs HTTP/1.1\u001b[0m\" 200 -\n",
      "I1217 19:17:18.209775 139922447931136 _internal.py:113] ::ffff:10.15.0.128 - - [17/Dec/2020 19:17:18] \"\u001b[37mGET /data/environment HTTP/1.1\u001b[0m\" 200 -\n",
      "I1217 19:17:18.213876 139923121125120 _internal.py:113] ::ffff:10.15.0.128 - - [17/Dec/2020 19:17:18] \"\u001b[37mGET /data/plugins_listing HTTP/1.1\u001b[0m\" 200 -\n",
      "I1217 19:17:18.214804 139923037230848 _internal.py:113] ::ffff:10.15.0.128 - - [17/Dec/2020 19:17:18] \"\u001b[37mGET /data/experiments HTTP/1.1\u001b[0m\" 200 -\n",
      "I1217 19:17:18.336088 139923037230848 _internal.py:113] ::ffff:10.15.0.128 - - [17/Dec/2020 19:17:18] \"\u001b[37mGET /data/plugin/scalars/tags HTTP/1.1\u001b[0m\" 200 -\n",
      "I1217 19:17:49.198897 139923121125120 _internal.py:113] ::ffff:10.15.0.128 - - [17/Dec/2020 19:17:49] \"\u001b[37mGET /data/environment HTTP/1.1\u001b[0m\" 200 -\n",
      "I1217 19:17:49.206490 139922447931136 _internal.py:113] ::ffff:10.15.0.128 - - [17/Dec/2020 19:17:49] \"\u001b[37mGET /data/runs HTTP/1.1\u001b[0m\" 200 -\n",
      "I1217 19:17:49.208568 139923079177984 _internal.py:113] ::ffff:10.15.0.128 - - [17/Dec/2020 19:17:49] \"\u001b[37mGET /data/experiments HTTP/1.1\u001b[0m\" 200 -\n",
      "I1217 19:17:49.210275 139923037230848 _internal.py:113] ::ffff:10.15.0.128 - - [17/Dec/2020 19:17:49] \"\u001b[37mGET /data/plugins_listing HTTP/1.1\u001b[0m\" 200 -\n",
      "I1217 19:17:49.333291 139923037230848 _internal.py:113] ::ffff:10.15.0.128 - - [17/Dec/2020 19:17:49] \"\u001b[37mGET /data/plugin/scalars/tags HTTP/1.1\u001b[0m\" 200 -\n"
     ]
    }
   ],
   "source": [
    "!tensorboard --logdir=logs/"
   ]
  },
  {
   "cell_type": "code",
   "execution_count": null,
   "metadata": {},
   "outputs": [],
   "source": [
    "# !git clone https://github.com/openai/atari-py\n",
    "# %cd atari-py\n",
    "!pip install -e ."
   ]
  },
  {
   "cell_type": "code",
   "execution_count": null,
   "metadata": {},
   "outputs": [],
   "source": [
    "# %cd RND/baselines/random-network-distillation\n",
    "# !ls\n",
    "%cd ../\n",
    "!pip install -e ."
   ]
  },
  {
   "cell_type": "code",
   "execution_count": null,
   "metadata": {},
   "outputs": [],
   "source": [
    "!/bin/bash -c \"$(curl -fsSL https://raw.githubusercontent.com/Homebrew/install/master/install.sh)\""
   ]
  },
  {
   "cell_type": "code",
   "execution_count": null,
   "metadata": {},
   "outputs": [],
   "source": [
    "!pip install gym_minigrid"
   ]
  },
  {
   "cell_type": "code",
   "execution_count": null,
   "metadata": {},
   "outputs": [],
   "source": [
    "import os\n",
    "os.environ['RCALL_NUM_GPU'] = \"1\"\n",
    "!python run_atari.py --gamma_ext 0.999\n",
    "print(\"finish\")"
   ]
  },
  {
   "cell_type": "code",
   "execution_count": 6,
   "metadata": {},
   "outputs": [],
   "source": [
    "import gym\n",
    "import gym_minigrid\n",
    "testenv = gym.make('MiniGrid-LavaCrossingS9N1-v0')"
   ]
  },
  {
   "cell_type": "code",
   "execution_count": 15,
   "metadata": {},
   "outputs": [
    {
     "data": {
      "text/plain": [
       "array([[[0, 0, 0],\n",
       "        [0, 0, 0],\n",
       "        [0, 0, 0],\n",
       "        [0, 0, 0],\n",
       "        [0, 0, 0],\n",
       "        [0, 0, 0],\n",
       "        [0, 0, 0]],\n",
       "\n",
       "       [[0, 0, 0],\n",
       "        [0, 0, 0],\n",
       "        [0, 0, 0],\n",
       "        [0, 0, 0],\n",
       "        [0, 0, 0],\n",
       "        [0, 0, 0],\n",
       "        [0, 0, 0]],\n",
       "\n",
       "       [[2, 5, 0],\n",
       "        [2, 5, 0],\n",
       "        [2, 5, 0],\n",
       "        [2, 5, 0],\n",
       "        [2, 5, 0],\n",
       "        [2, 5, 0],\n",
       "        [2, 5, 0]],\n",
       "\n",
       "       [[1, 0, 0],\n",
       "        [1, 0, 0],\n",
       "        [1, 0, 0],\n",
       "        [1, 0, 0],\n",
       "        [1, 0, 0],\n",
       "        [1, 0, 0],\n",
       "        [1, 0, 0]],\n",
       "\n",
       "       [[1, 0, 0],\n",
       "        [1, 0, 0],\n",
       "        [1, 0, 0],\n",
       "        [1, 0, 0],\n",
       "        [1, 0, 0],\n",
       "        [1, 0, 0],\n",
       "        [1, 0, 0]],\n",
       "\n",
       "       [[1, 0, 0],\n",
       "        [1, 0, 0],\n",
       "        [1, 0, 0],\n",
       "        [1, 0, 0],\n",
       "        [1, 0, 0],\n",
       "        [1, 0, 0],\n",
       "        [1, 0, 0]],\n",
       "\n",
       "       [[1, 0, 0],\n",
       "        [1, 0, 0],\n",
       "        [1, 0, 0],\n",
       "        [1, 0, 0],\n",
       "        [1, 0, 0],\n",
       "        [1, 0, 0],\n",
       "        [1, 0, 0]]], dtype=uint8)"
      ]
     },
     "execution_count": 15,
     "metadata": {},
     "output_type": "execute_result"
    }
   ],
   "source": [
    "ob = testenv.reset()\n",
    "ob[\"image\"]"
   ]
  },
  {
   "cell_type": "code",
   "execution_count": 53,
   "metadata": {},
   "outputs": [
    {
     "name": "stdout",
     "output_type": "stream",
     "text": [
      "/home/endolab/.local/lib/python3.7/site-packages/tensorflow/python/framework/dtypes.py:516: FutureWarning: Passing (type, 1) or '1type' as a synonym of type is deprecated; in a future version of numpy, it will be understood as (type, (1,)) / '(1,)type'.\n",
      "  _np_qint8 = np.dtype([(\"qint8\", np.int8, 1)])\n",
      "/home/endolab/.local/lib/python3.7/site-packages/tensorflow/python/framework/dtypes.py:517: FutureWarning: Passing (type, 1) or '1type' as a synonym of type is deprecated; in a future version of numpy, it will be understood as (type, (1,)) / '(1,)type'.\n",
      "  _np_quint8 = np.dtype([(\"quint8\", np.uint8, 1)])\n",
      "/home/endolab/.local/lib/python3.7/site-packages/tensorflow/python/framework/dtypes.py:518: FutureWarning: Passing (type, 1) or '1type' as a synonym of type is deprecated; in a future version of numpy, it will be understood as (type, (1,)) / '(1,)type'.\n",
      "  _np_qint16 = np.dtype([(\"qint16\", np.int16, 1)])\n",
      "/home/endolab/.local/lib/python3.7/site-packages/tensorflow/python/framework/dtypes.py:519: FutureWarning: Passing (type, 1) or '1type' as a synonym of type is deprecated; in a future version of numpy, it will be understood as (type, (1,)) / '(1,)type'.\n",
      "  _np_quint16 = np.dtype([(\"quint16\", np.uint16, 1)])\n",
      "/home/endolab/.local/lib/python3.7/site-packages/tensorflow/python/framework/dtypes.py:520: FutureWarning: Passing (type, 1) or '1type' as a synonym of type is deprecated; in a future version of numpy, it will be understood as (type, (1,)) / '(1,)type'.\n",
      "  _np_qint32 = np.dtype([(\"qint32\", np.int32, 1)])\n",
      "/home/endolab/.local/lib/python3.7/site-packages/tensorflow/python/framework/dtypes.py:525: FutureWarning: Passing (type, 1) or '1type' as a synonym of type is deprecated; in a future version of numpy, it will be understood as (type, (1,)) / '(1,)type'.\n",
      "  np_resource = np.dtype([(\"resource\", np.ubyte, 1)])\n",
      "/home/endolab/.local/lib/python3.7/site-packages/tensorboard/compat/tensorflow_stub/dtypes.py:541: FutureWarning: Passing (type, 1) or '1type' as a synonym of type is deprecated; in a future version of numpy, it will be understood as (type, (1,)) / '(1,)type'.\n",
      "  _np_qint8 = np.dtype([(\"qint8\", np.int8, 1)])\n",
      "/home/endolab/.local/lib/python3.7/site-packages/tensorboard/compat/tensorflow_stub/dtypes.py:542: FutureWarning: Passing (type, 1) or '1type' as a synonym of type is deprecated; in a future version of numpy, it will be understood as (type, (1,)) / '(1,)type'.\n",
      "  _np_quint8 = np.dtype([(\"quint8\", np.uint8, 1)])\n",
      "/home/endolab/.local/lib/python3.7/site-packages/tensorboard/compat/tensorflow_stub/dtypes.py:543: FutureWarning: Passing (type, 1) or '1type' as a synonym of type is deprecated; in a future version of numpy, it will be understood as (type, (1,)) / '(1,)type'.\n",
      "  _np_qint16 = np.dtype([(\"qint16\", np.int16, 1)])\n",
      "/home/endolab/.local/lib/python3.7/site-packages/tensorboard/compat/tensorflow_stub/dtypes.py:544: FutureWarning: Passing (type, 1) or '1type' as a synonym of type is deprecated; in a future version of numpy, it will be understood as (type, (1,)) / '(1,)type'.\n",
      "  _np_quint16 = np.dtype([(\"quint16\", np.uint16, 1)])\n",
      "/home/endolab/.local/lib/python3.7/site-packages/tensorboard/compat/tensorflow_stub/dtypes.py:545: FutureWarning: Passing (type, 1) or '1type' as a synonym of type is deprecated; in a future version of numpy, it will be understood as (type, (1,)) / '(1,)type'.\n",
      "  _np_qint32 = np.dtype([(\"qint32\", np.int32, 1)])\n",
      "/home/endolab/.local/lib/python3.7/site-packages/tensorboard/compat/tensorflow_stub/dtypes.py:550: FutureWarning: Passing (type, 1) or '1type' as a synonym of type is deprecated; in a future version of numpy, it will be understood as (type, (1,)) / '(1,)type'.\n",
      "  np_resource = np.dtype([(\"resource\", np.ubyte, 1)])\n",
      "movie\n",
      "Opening file /tmp/openai-2020-11-23-07-22-17-945859/videos_0.pk\n",
      "0\n",
      "AssertionError: None\n",
      "> \u001b[0;32m/home/endolab/Workspace/RND/baselines/random-network-distillation/replayer.py\u001b[0m(74)\u001b[0;36miterate_over_episodes_in_file\u001b[0;34m()\u001b[0m\n",
      "\u001b[0;32m     73 \u001b[0;31m                            \u001b[0;32massert\u001b[0m \u001b[0;32mnot\u001b[0m \u001b[0md\u001b[0m \u001b[0;32mor\u001b[0m \u001b[0mi\u001b[0m \u001b[0;34m==\u001b[0m \u001b[0mlen\u001b[0m\u001b[0;34m(\u001b[0m\u001b[0mepisode\u001b[0m\u001b[0;34m[\u001b[0m\u001b[0;34m'acs'\u001b[0m\u001b[0;34m]\u001b[0m\u001b[0;34m)\u001b[0m \u001b[0;34m-\u001b[0m \u001b[0;36m1\u001b[0m\u001b[0;34m,\u001b[0m \u001b[0mipdb\u001b[0m\u001b[0;34m.\u001b[0m\u001b[0mset_trace\u001b[0m\u001b[0;34m(\u001b[0m\u001b[0;34m)\u001b[0m\u001b[0;34m\u001b[0m\u001b[0;34m\u001b[0m\u001b[0m\n",
      "\u001b[0m\u001b[0;32m---> 74 \u001b[0;31m                        \u001b[0;32massert\u001b[0m \u001b[0md\u001b[0m\u001b[0;34m,\u001b[0m \u001b[0mipdb\u001b[0m\u001b[0;34m.\u001b[0m\u001b[0mset_trace\u001b[0m\u001b[0;34m(\u001b[0m\u001b[0;34m)\u001b[0m\u001b[0;34m\u001b[0m\u001b[0;34m\u001b[0m\u001b[0m\n",
      "\u001b[0m\u001b[0;32m     75 \u001b[0;31m                        \u001b[0;32massert\u001b[0m \u001b[0mret\u001b[0m \u001b[0;34m==\u001b[0m \u001b[0mepisode\u001b[0m\u001b[0;34m[\u001b[0m\u001b[0;34m'info'\u001b[0m\u001b[0;34m]\u001b[0m\u001b[0;34m[\u001b[0m\u001b[0;34m'r'\u001b[0m\u001b[0;34m]\u001b[0m\u001b[0;34m,\u001b[0m \u001b[0;34m(\u001b[0m\u001b[0mret\u001b[0m\u001b[0;34m,\u001b[0m \u001b[0mepisode\u001b[0m\u001b[0;34m[\u001b[0m\u001b[0;34m'info'\u001b[0m\u001b[0;34m]\u001b[0m\u001b[0;34m[\u001b[0m\u001b[0;34m'r'\u001b[0m\u001b[0;34m]\u001b[0m\u001b[0;34m)\u001b[0m\u001b[0;34m\u001b[0m\u001b[0;34m\u001b[0m\u001b[0m\n",
      "\u001b[0m\n",
      "\u001b[6C\u001b[?7h\u001b[0m\u001b[?12l\u001b[?25h\u001b[6D\u001b[J\u001b[0m\u001b[?7h\u001b[?2004l\u001b[?1lWARNING: your terminal doesn't support cursor position requests (CPR).\n",
      "\u001b[0m\n",
      "\u001b[J\u001b[?7h\u001b[0m\u001b[?12l\u001b[?25h\u001b[?2004l--KeyboardInterrupt--\n",
      "\u001b[0m\n",
      "\u001b[6C\u001b[?7h\u001b[0m\u001b[?12l\u001b[?25h"
     ]
    }
   ],
   "source": [
    "!python replayer.py"
   ]
  },
  {
   "cell_type": "code",
   "execution_count": 57,
   "metadata": {},
   "outputs": [
    {
     "name": "stdout",
     "output_type": "stream",
     "text": [
      "/home/endolab/Workspace\n",
      "\u001b[0m\u001b[01;34mRND\u001b[0m/  \u001b[01;34mtest\u001b[0m/\n"
     ]
    }
   ],
   "source": [
    "%cd Workspace\n",
    "%ls"
   ]
  },
  {
   "cell_type": "code",
   "execution_count": null,
   "metadata": {},
   "outputs": [],
   "source": [
    "!pip install ipdb"
   ]
  },
  {
   "cell_type": "code",
   "execution_count": 42,
   "metadata": {},
   "outputs": [
    {
     "name": "stdout",
     "output_type": "stream",
     "text": [
      "/tmp/openai-2020-11-23-07-22-17-945859\n",
      "0.monitor.csv   17.monitor.csv  25.monitor.csv  5.monitor.csv\n",
      "1.monitor.csv   18.monitor.csv  26.monitor.csv  6.monitor.csv\n",
      "10.monitor.csv  19.monitor.csv  27.monitor.csv  7.monitor.csv\n",
      "11.monitor.csv  2.monitor.csv   28.monitor.csv  8.monitor.csv\n",
      "12.monitor.csv  20.monitor.csv  29.monitor.csv  9.monitor.csv\n",
      "13.monitor.csv  21.monitor.csv  3.monitor.csv   experiment_tag.txt\n",
      "14.monitor.csv  22.monitor.csv  30.monitor.csv  log.txt\n",
      "15.monitor.csv  23.monitor.csv  31.monitor.csv  progress.csv\n",
      "16.monitor.csv  24.monitor.csv  4.monitor.csv   videos_0.pk\n"
     ]
    }
   ],
   "source": [
    "%cd /tmp/openai-2020-11-23-07-22-17-945859/\n",
    "%ls\n",
    "#memo Logging to /tmp/openai-2020-11-23-07-22-17-945859\n"
   ]
  },
  {
   "cell_type": "code",
   "execution_count": 48,
   "metadata": {},
   "outputs": [
    {
     "name": "stdout",
     "output_type": "stream",
     "text": [
      "/\n"
     ]
    }
   ],
   "source": [
    "%cd ../"
   ]
  },
  {
   "cell_type": "code",
   "execution_count": 51,
   "metadata": {},
   "outputs": [
    {
     "name": "stdout",
     "output_type": "stream",
     "text": [
      "/tmp/openai-2020-11-23-07-22-17-945859\n",
      "0.monitor.csv   17.monitor.csv  25.monitor.csv  5.monitor.csv\n",
      "1.monitor.csv   18.monitor.csv  26.monitor.csv  6.monitor.csv\n",
      "10.monitor.csv  19.monitor.csv  27.monitor.csv  7.monitor.csv\n",
      "11.monitor.csv  2.monitor.csv   28.monitor.csv  8.monitor.csv\n",
      "12.monitor.csv  20.monitor.csv  29.monitor.csv  9.monitor.csv\n",
      "13.monitor.csv  21.monitor.csv  3.monitor.csv   experiment_tag.txt\n",
      "14.monitor.csv  22.monitor.csv  30.monitor.csv  log.txt\n",
      "15.monitor.csv  23.monitor.csv  31.monitor.csv  progress.csv\n",
      "16.monitor.csv  24.monitor.csv  4.monitor.csv   videos_0.pk\n"
     ]
    }
   ],
   "source": [
    "%cd openai-2020-11-23-07-22-17-945859/\n",
    "%ls"
   ]
  },
  {
   "cell_type": "code",
   "execution_count": 118,
   "metadata": {},
   "outputs": [],
   "source": [
    "#!/usr/bin/env python3\n",
    "import functools\n",
    "import os\n",
    "import matplotlib.pyplot as plt\n",
    "from matplotlib import animation\n",
    "import gym_minigrid\n",
    "\n",
    "from baselines import logger\n",
    "from mpi4py import MPI\n",
    "import mpi_util\n",
    "import tf_util\n",
    "from cmd_util import make_atari_env, arg_parser\n",
    "from policies.cnn_gru_policy_dynamics import CnnGruPolicy\n",
    "from policies.cnn_policy_param_matched import CnnPolicy\n",
    "from ppo_agent import PpoAgent\n",
    "from utils import set_global_seeds\n",
    "from vec_env import VecFrameStack"
   ]
  },
  {
   "cell_type": "code",
   "execution_count": 111,
   "metadata": {},
   "outputs": [],
   "source": [
    "\n",
    "def add_env_params(parser):\n",
    "    parser.add_argument('--env', help='environment ID', default='MontezumaRevengeNoFrameskip-v4')\n",
    "    parser.add_argument('--seed', help='RNG seed', type=int, default=0)\n",
    "    parser.add_argument('--max_episode_steps', type=int, default=200)"
   ]
  },
  {
   "cell_type": "code",
   "execution_count": 135,
   "metadata": {},
   "outputs": [
    {
     "name": "stdout",
     "output_type": "stream",
     "text": [
      "Logging to /tmp/openai-2020-11-23-16-58-39-289544\n"
     ]
    }
   ],
   "source": [
    "parser = arg_parser()\n",
    "add_env_params(parser)\n",
    "parser.add_argument('--num-timesteps', type=int, default=int(1e4))\n",
    "parser.add_argument('--num_env', type=int, default=32)\n",
    "parser.add_argument('--use_news', type=int, default=0)\n",
    "parser.add_argument('--gamma', type=float, default=0.99)\n",
    "parser.add_argument('--gamma_ext', type=float, default=0.99)\n",
    "parser.add_argument('--lam', type=float, default=0.95)\n",
    "parser.add_argument('--update_ob_stats_every_step', type=int, default=0)\n",
    "parser.add_argument('--update_ob_stats_independently_per_gpu', type=int, default=0)\n",
    "parser.add_argument('--update_ob_stats_from_random_agent', type=int, default=1)\n",
    "parser.add_argument('--proportion_of_exp_used_for_predictor_update', type=float, default=1.)\n",
    "parser.add_argument('--tag', type=str, default='')\n",
    "parser.add_argument('--policy', type=str, default='rnn', choices=['cnn', 'rnn'])\n",
    "parser.add_argument('--int_coeff', type=float, default=1.)\n",
    "parser.add_argument('--ext_coeff', type=float, default=2.)\n",
    "parser.add_argument('--dynamics_bonus', type=int, default=0)\n",
    "\n",
    "\n",
    "args = parser.parse_args(args=[])\n",
    "\n",
    "args.env = 'MiniGrid-LavaCrossingS9N1-v0'\n",
    "args.max_episode_steps = 100\n",
    "args.num_env = 32\n",
    "    \n",
    "logger.configure(dir=logger.get_dir(), format_strs=['stdout', 'log', 'csv'] if MPI.COMM_WORLD.Get_rank() == 0 else [])\n",
    "if MPI.COMM_WORLD.Get_rank() == 0:\n",
    "    with open(os.path.join(logger.get_dir(), 'experiment_tag.txt'), 'w') as f:\n",
    "        f.write(args.tag)\n",
    "    # shutil.copytree(os.path.dirname(os.path.abspath(__file__)), os.path.join(logger.get_dir(), 'code'))\n",
    "\n",
    "mpi_util.setup_mpi_gpus()\n",
    "\n",
    "seed = 10000 * args.seed + MPI.COMM_WORLD.Get_rank()\n",
    "set_global_seeds(seed)\n",
    "\n",
    "hps = dict(\n",
    "    frame_stack=4,\n",
    "    nminibatches=4,\n",
    "    nepochs=4,\n",
    "    lr=0.0001,\n",
    "    max_grad_norm=0.0,\n",
    "    use_news=args.use_news,\n",
    "    gamma=args.gamma,\n",
    "    gamma_ext=args.gamma_ext,\n",
    "    max_episode_steps=args.max_episode_steps,\n",
    "    lam=args.lam,\n",
    "    update_ob_stats_every_step=args.update_ob_stats_every_step,\n",
    "    update_ob_stats_independently_per_gpu=args.update_ob_stats_independently_per_gpu,\n",
    "    update_ob_stats_from_random_agent=args.update_ob_stats_from_random_agent,\n",
    "    proportion_of_exp_used_for_predictor_update=args.proportion_of_exp_used_for_predictor_update,\n",
    "    policy=args.policy,\n",
    "    int_coeff=args.int_coeff,\n",
    "    ext_coeff=args.ext_coeff,\n",
    "    dynamics_bonus = args.dynamics_bonus\n",
    ")\n"
   ]
  },
  {
   "cell_type": "code",
   "execution_count": 113,
   "metadata": {},
   "outputs": [
    {
     "name": "stderr",
     "output_type": "stream",
     "text": [
      "/home/endolab/.local/lib/python3.7/site-packages/tensorflow/python/client/session.py:1735: UserWarning: An interactive session is already active. This can cause out-of-memory errors in some cases. You must explicitly call `InteractiveSession.close()` to release resources held by the other session(s).\n",
      "  warnings.warn('An interactive session is already active. This can '\n"
     ]
    },
    {
     "data": {
      "text/plain": [
       "<tensorflow.python.client.session.InteractiveSession at 0x7fa6381b7630>"
      ]
     },
     "execution_count": 113,
     "metadata": {},
     "output_type": "execute_result"
    }
   ],
   "source": [
    "tf_util.make_session(make_default=True)"
   ]
  },
  {
   "cell_type": "code",
   "execution_count": 136,
   "metadata": {},
   "outputs": [
    {
     "name": "stdout",
     "output_type": "stream",
     "text": [
      "{'frame_stack': 4, 'nminibatches': 4, 'nepochs': 4, 'lr': 0.0001, 'max_grad_norm': 0.0, 'use_news': 0, 'gamma': 0.99, 'gamma_ext': 0.99, 'max_episode_steps': 100, 'lam': 0.95, 'update_ob_stats_every_step': 0, 'update_ob_stats_independently_per_gpu': 0, 'update_ob_stats_from_random_agent': 1, 'proportion_of_exp_used_for_predictor_update': 1.0, 'policy': 'rnn', 'int_coeff': 1.0, 'ext_coeff': 2.0, 'dynamics_bonus': 0}\n"
     ]
    }
   ],
   "source": [
    "env_id=args.env\n",
    "num_env=args.num_env\n",
    "seed=seed\n",
    "num_timesteps=args.num_timesteps\n",
    "hps=hps\n",
    "print(hps)"
   ]
  },
  {
   "cell_type": "code",
   "execution_count": 137,
   "metadata": {},
   "outputs": [
    {
     "name": "stdout",
     "output_type": "stream",
     "text": [
      "Box(84, 84, 4)\n",
      "CnnGruPolicy: using 'ppo_1/strided_slice_2:0' shape (?, ?, 84, 84, 4) as image input\n"
     ]
    },
    {
     "ename": "ValueError",
     "evalue": "Variable ppo/pol/c1/w already exists, disallowed. Did you mean to set reuse=True or reuse=tf.AUTO_REUSE in VarScope? Originally defined at:\n\n  File \"/home/endolab/Workspace/RND/baselines/random-network-distillation/utils.py\", line 29, in conv\n    w = tf.compat.v1.get_variable(\"w\", wshape, initializer=ortho_init(init_scale))\n  File \"/home/endolab/Workspace/RND/baselines/random-network-distillation/policies/cnn_gru_policy_dynamics.py\", line 126, in apply_policy\n    X = activ(conv(X, 'c1', nf=32, rf=8, stride=4, init_scale=np.sqrt(2), data_format=data_format))\n  File \"/home/endolab/Workspace/RND/baselines/random-network-distillation/policies/cnn_gru_policy_dynamics.py\", line 80, in __init__\n    rec_gate_init=rec_gate_init\n  File \"/home/endolab/Workspace/RND/baselines/random-network-distillation/ppo_agent.py\", line 137, in __init__\n    self.stochpol = stochpol_fn()\n  File \"<ipython-input-91-0c51542b0c08>\", line 51, in <module>\n    ext_coeff=hps.pop('ext_coeff'),\n",
     "output_type": "error",
     "traceback": [
      "\u001b[0;31m\u001b[0m",
      "\u001b[0;31mValueError\u001b[0mTraceback (most recent call last)",
      "\u001b[0;32m<ipython-input-137-a54c3a14eba5>\u001b[0m in \u001b[0;36m<module>\u001b[0;34m\u001b[0m\n\u001b[1;32m     40\u001b[0m     \u001b[0mupdate_ob_stats_every_step\u001b[0m\u001b[0;34m=\u001b[0m\u001b[0mhps\u001b[0m\u001b[0;34m.\u001b[0m\u001b[0mpop\u001b[0m\u001b[0;34m(\u001b[0m\u001b[0;34m'update_ob_stats_every_step'\u001b[0m\u001b[0;34m)\u001b[0m\u001b[0;34m,\u001b[0m\u001b[0;34m\u001b[0m\u001b[0;34m\u001b[0m\u001b[0m\n\u001b[1;32m     41\u001b[0m     \u001b[0mint_coeff\u001b[0m\u001b[0;34m=\u001b[0m\u001b[0mhps\u001b[0m\u001b[0;34m.\u001b[0m\u001b[0mpop\u001b[0m\u001b[0;34m(\u001b[0m\u001b[0;34m'int_coeff'\u001b[0m\u001b[0;34m)\u001b[0m\u001b[0;34m,\u001b[0m\u001b[0;34m\u001b[0m\u001b[0;34m\u001b[0m\u001b[0m\n\u001b[0;32m---> 42\u001b[0;31m     \u001b[0mext_coeff\u001b[0m\u001b[0;34m=\u001b[0m\u001b[0mhps\u001b[0m\u001b[0;34m.\u001b[0m\u001b[0mpop\u001b[0m\u001b[0;34m(\u001b[0m\u001b[0;34m'ext_coeff'\u001b[0m\u001b[0;34m)\u001b[0m\u001b[0;34m,\u001b[0m\u001b[0;34m\u001b[0m\u001b[0;34m\u001b[0m\u001b[0m\n\u001b[0m\u001b[1;32m     43\u001b[0m \u001b[0;31m#     sess=sess\u001b[0m\u001b[0;34m\u001b[0m\u001b[0;34m\u001b[0m\u001b[0;34m\u001b[0m\u001b[0m\n\u001b[1;32m     44\u001b[0m )\n",
      "\u001b[0;32m~/Workspace/RND/baselines/random-network-distillation/ppo_agent.py\u001b[0m in \u001b[0;36m__init__\u001b[0;34m(self, scope, ob_space, ac_space, stochpol_fn, nsteps, nepochs, nminibatches, gamma, gamma_ext, lam, ent_coef, cliprange, max_grad_norm, vf_coef, lr, adam_hps, testing, comm, comm_train, use_news, update_ob_stats_every_step, int_coeff, ext_coeff)\u001b[0m\n\u001b[1;32m    135\u001b[0m             \u001b[0mself\u001b[0m\u001b[0;34m.\u001b[0m\u001b[0mob_space\u001b[0m \u001b[0;34m=\u001b[0m \u001b[0mob_space\u001b[0m\u001b[0;34m\u001b[0m\u001b[0;34m\u001b[0m\u001b[0m\n\u001b[1;32m    136\u001b[0m             \u001b[0mself\u001b[0m\u001b[0;34m.\u001b[0m\u001b[0mac_space\u001b[0m \u001b[0;34m=\u001b[0m \u001b[0mac_space\u001b[0m\u001b[0;34m\u001b[0m\u001b[0;34m\u001b[0m\u001b[0m\n\u001b[0;32m--> 137\u001b[0;31m             \u001b[0mself\u001b[0m\u001b[0;34m.\u001b[0m\u001b[0mstochpol\u001b[0m \u001b[0;34m=\u001b[0m \u001b[0mstochpol_fn\u001b[0m\u001b[0;34m(\u001b[0m\u001b[0;34m)\u001b[0m\u001b[0;34m\u001b[0m\u001b[0;34m\u001b[0m\u001b[0m\n\u001b[0m\u001b[1;32m    138\u001b[0m             \u001b[0mself\u001b[0m\u001b[0;34m.\u001b[0m\u001b[0mnepochs\u001b[0m \u001b[0;34m=\u001b[0m \u001b[0mnepochs\u001b[0m\u001b[0;34m\u001b[0m\u001b[0;34m\u001b[0m\u001b[0m\n\u001b[1;32m    139\u001b[0m             \u001b[0mself\u001b[0m\u001b[0;34m.\u001b[0m\u001b[0mcliprange\u001b[0m \u001b[0;34m=\u001b[0m \u001b[0mcliprange\u001b[0m\u001b[0;34m\u001b[0m\u001b[0;34m\u001b[0m\u001b[0m\n",
      "\u001b[0;32m~/Workspace/RND/baselines/random-network-distillation/policies/cnn_gru_policy_dynamics.py\u001b[0m in \u001b[0;36m__init__\u001b[0;34m(self, scope, ob_space, ac_space, policy_size, maxpool, extrahid, hidsize, memsize, rec_gate_init, update_ob_stats_independently_per_gpu, proportion_of_exp_used_for_predictor_update, dynamics_bonus)\u001b[0m\n\u001b[1;32m     78\u001b[0m                               \u001b[0msy_nsteps\u001b[0m\u001b[0;34m=\u001b[0m\u001b[0mself\u001b[0m\u001b[0;34m.\u001b[0m\u001b[0msy_nsteps\u001b[0m \u001b[0;34m-\u001b[0m \u001b[0;36m1\u001b[0m\u001b[0;34m,\u001b[0m\u001b[0;34m\u001b[0m\u001b[0;34m\u001b[0m\u001b[0m\n\u001b[1;32m     79\u001b[0m                               \u001b[0mpdparamsize\u001b[0m\u001b[0;34m=\u001b[0m\u001b[0mpdparamsize\u001b[0m\u001b[0;34m,\u001b[0m\u001b[0;34m\u001b[0m\u001b[0;34m\u001b[0m\u001b[0m\n\u001b[0;32m---> 80\u001b[0;31m                               \u001b[0mrec_gate_init\u001b[0m\u001b[0;34m=\u001b[0m\u001b[0mrec_gate_init\u001b[0m\u001b[0;34m\u001b[0m\u001b[0;34m\u001b[0m\u001b[0m\n\u001b[0m\u001b[1;32m     81\u001b[0m                               )\n\u001b[1;32m     82\u001b[0m         \u001b[0mself\u001b[0m\u001b[0;34m.\u001b[0m\u001b[0mpdparam_rollout\u001b[0m\u001b[0;34m,\u001b[0m \u001b[0mself\u001b[0m\u001b[0;34m.\u001b[0m\u001b[0mvpred_int_rollout\u001b[0m\u001b[0;34m,\u001b[0m \u001b[0mself\u001b[0m\u001b[0;34m.\u001b[0m\u001b[0mvpred_ext_rollout\u001b[0m\u001b[0;34m,\u001b[0m \u001b[0mself\u001b[0m\u001b[0;34m.\u001b[0m\u001b[0msnext_rollout\u001b[0m \u001b[0;34m=\u001b[0m\u001b[0;31m \u001b[0m\u001b[0;31m\\\u001b[0m\u001b[0;34m\u001b[0m\u001b[0;34m\u001b[0m\u001b[0m\n",
      "\u001b[0;32m~/Workspace/RND/baselines/random-network-distillation/policies/cnn_gru_policy_dynamics.py\u001b[0m in \u001b[0;36mapply_policy\u001b[0;34m(ph_ob, ph_new, ph_istate, reuse, scope, hidsize, memsize, extrahid, sy_nenvs, sy_nsteps, pdparamsize, rec_gate_init)\u001b[0m\n\u001b[1;32m    124\u001b[0m \u001b[0;34m\u001b[0m\u001b[0m\n\u001b[1;32m    125\u001b[0m         \u001b[0;32mwith\u001b[0m \u001b[0mtf\u001b[0m\u001b[0;34m.\u001b[0m\u001b[0mcompat\u001b[0m\u001b[0;34m.\u001b[0m\u001b[0mv1\u001b[0m\u001b[0;34m.\u001b[0m\u001b[0mvariable_scope\u001b[0m\u001b[0;34m(\u001b[0m\u001b[0mscope\u001b[0m\u001b[0;34m,\u001b[0m \u001b[0mreuse\u001b[0m\u001b[0;34m=\u001b[0m\u001b[0mreuse\u001b[0m\u001b[0;34m)\u001b[0m\u001b[0;34m,\u001b[0m \u001b[0mtf\u001b[0m\u001b[0;34m.\u001b[0m\u001b[0mdevice\u001b[0m\u001b[0;34m(\u001b[0m\u001b[0;34m'/gpu:0'\u001b[0m \u001b[0;32mif\u001b[0m \u001b[0myes_gpu\u001b[0m \u001b[0;32melse\u001b[0m \u001b[0;34m'/cpu:0'\u001b[0m\u001b[0;34m)\u001b[0m\u001b[0;34m:\u001b[0m\u001b[0;34m\u001b[0m\u001b[0;34m\u001b[0m\u001b[0m\n\u001b[0;32m--> 126\u001b[0;31m             \u001b[0mX\u001b[0m \u001b[0;34m=\u001b[0m \u001b[0mactiv\u001b[0m\u001b[0;34m(\u001b[0m\u001b[0mconv\u001b[0m\u001b[0;34m(\u001b[0m\u001b[0mX\u001b[0m\u001b[0;34m,\u001b[0m \u001b[0;34m'c1'\u001b[0m\u001b[0;34m,\u001b[0m \u001b[0mnf\u001b[0m\u001b[0;34m=\u001b[0m\u001b[0;36m32\u001b[0m\u001b[0;34m,\u001b[0m \u001b[0mrf\u001b[0m\u001b[0;34m=\u001b[0m\u001b[0;36m8\u001b[0m\u001b[0;34m,\u001b[0m \u001b[0mstride\u001b[0m\u001b[0;34m=\u001b[0m\u001b[0;36m4\u001b[0m\u001b[0;34m,\u001b[0m \u001b[0minit_scale\u001b[0m\u001b[0;34m=\u001b[0m\u001b[0mnp\u001b[0m\u001b[0;34m.\u001b[0m\u001b[0msqrt\u001b[0m\u001b[0;34m(\u001b[0m\u001b[0;36m2\u001b[0m\u001b[0;34m)\u001b[0m\u001b[0;34m,\u001b[0m \u001b[0mdata_format\u001b[0m\u001b[0;34m=\u001b[0m\u001b[0mdata_format\u001b[0m\u001b[0;34m)\u001b[0m\u001b[0;34m)\u001b[0m\u001b[0;34m\u001b[0m\u001b[0;34m\u001b[0m\u001b[0m\n\u001b[0m\u001b[1;32m    127\u001b[0m             \u001b[0mX\u001b[0m \u001b[0;34m=\u001b[0m \u001b[0mactiv\u001b[0m\u001b[0;34m(\u001b[0m\u001b[0mconv\u001b[0m\u001b[0;34m(\u001b[0m\u001b[0mX\u001b[0m\u001b[0;34m,\u001b[0m \u001b[0;34m'c2'\u001b[0m\u001b[0;34m,\u001b[0m \u001b[0mnf\u001b[0m\u001b[0;34m=\u001b[0m\u001b[0;36m64\u001b[0m\u001b[0;34m,\u001b[0m \u001b[0mrf\u001b[0m\u001b[0;34m=\u001b[0m\u001b[0;36m4\u001b[0m\u001b[0;34m,\u001b[0m \u001b[0mstride\u001b[0m\u001b[0;34m=\u001b[0m\u001b[0;36m2\u001b[0m\u001b[0;34m,\u001b[0m \u001b[0minit_scale\u001b[0m\u001b[0;34m=\u001b[0m\u001b[0mnp\u001b[0m\u001b[0;34m.\u001b[0m\u001b[0msqrt\u001b[0m\u001b[0;34m(\u001b[0m\u001b[0;36m2\u001b[0m\u001b[0;34m)\u001b[0m\u001b[0;34m,\u001b[0m \u001b[0mdata_format\u001b[0m\u001b[0;34m=\u001b[0m\u001b[0mdata_format\u001b[0m\u001b[0;34m)\u001b[0m\u001b[0;34m)\u001b[0m\u001b[0;34m\u001b[0m\u001b[0;34m\u001b[0m\u001b[0m\n\u001b[1;32m    128\u001b[0m             \u001b[0mX\u001b[0m \u001b[0;34m=\u001b[0m \u001b[0mactiv\u001b[0m\u001b[0;34m(\u001b[0m\u001b[0mconv\u001b[0m\u001b[0;34m(\u001b[0m\u001b[0mX\u001b[0m\u001b[0;34m,\u001b[0m \u001b[0;34m'c3'\u001b[0m\u001b[0;34m,\u001b[0m \u001b[0mnf\u001b[0m\u001b[0;34m=\u001b[0m\u001b[0;36m64\u001b[0m\u001b[0;34m,\u001b[0m \u001b[0mrf\u001b[0m\u001b[0;34m=\u001b[0m\u001b[0;36m4\u001b[0m\u001b[0;34m,\u001b[0m \u001b[0mstride\u001b[0m\u001b[0;34m=\u001b[0m\u001b[0;36m1\u001b[0m\u001b[0;34m,\u001b[0m \u001b[0minit_scale\u001b[0m\u001b[0;34m=\u001b[0m\u001b[0mnp\u001b[0m\u001b[0;34m.\u001b[0m\u001b[0msqrt\u001b[0m\u001b[0;34m(\u001b[0m\u001b[0;36m2\u001b[0m\u001b[0;34m)\u001b[0m\u001b[0;34m,\u001b[0m \u001b[0mdata_format\u001b[0m\u001b[0;34m=\u001b[0m\u001b[0mdata_format\u001b[0m\u001b[0;34m)\u001b[0m\u001b[0;34m)\u001b[0m\u001b[0;34m\u001b[0m\u001b[0;34m\u001b[0m\u001b[0m\n",
      "\u001b[0;32m~/Workspace/RND/baselines/random-network-distillation/utils.py\u001b[0m in \u001b[0;36mconv\u001b[0;34m(x, scope, nf, rf, stride, pad, init_scale, data_format, one_dim_bias)\u001b[0m\n\u001b[1;32m     27\u001b[0m     \u001b[0mwshape\u001b[0m \u001b[0;34m=\u001b[0m \u001b[0;34m[\u001b[0m\u001b[0mrf\u001b[0m\u001b[0;34m,\u001b[0m \u001b[0mrf\u001b[0m\u001b[0;34m,\u001b[0m \u001b[0mnin\u001b[0m\u001b[0;34m,\u001b[0m \u001b[0mnf\u001b[0m\u001b[0;34m]\u001b[0m\u001b[0;34m\u001b[0m\u001b[0;34m\u001b[0m\u001b[0m\n\u001b[1;32m     28\u001b[0m     \u001b[0;32mwith\u001b[0m \u001b[0mtf\u001b[0m\u001b[0;34m.\u001b[0m\u001b[0mcompat\u001b[0m\u001b[0;34m.\u001b[0m\u001b[0mv1\u001b[0m\u001b[0;34m.\u001b[0m\u001b[0mvariable_scope\u001b[0m\u001b[0;34m(\u001b[0m\u001b[0mscope\u001b[0m\u001b[0;34m)\u001b[0m\u001b[0;34m:\u001b[0m\u001b[0;34m\u001b[0m\u001b[0;34m\u001b[0m\u001b[0m\n\u001b[0;32m---> 29\u001b[0;31m         \u001b[0mw\u001b[0m \u001b[0;34m=\u001b[0m \u001b[0mtf\u001b[0m\u001b[0;34m.\u001b[0m\u001b[0mcompat\u001b[0m\u001b[0;34m.\u001b[0m\u001b[0mv1\u001b[0m\u001b[0;34m.\u001b[0m\u001b[0mget_variable\u001b[0m\u001b[0;34m(\u001b[0m\u001b[0;34m\"w\"\u001b[0m\u001b[0;34m,\u001b[0m \u001b[0mwshape\u001b[0m\u001b[0;34m,\u001b[0m \u001b[0minitializer\u001b[0m\u001b[0;34m=\u001b[0m\u001b[0mortho_init\u001b[0m\u001b[0;34m(\u001b[0m\u001b[0minit_scale\u001b[0m\u001b[0;34m)\u001b[0m\u001b[0;34m)\u001b[0m\u001b[0;34m\u001b[0m\u001b[0;34m\u001b[0m\u001b[0m\n\u001b[0m\u001b[1;32m     30\u001b[0m         \u001b[0mb\u001b[0m \u001b[0;34m=\u001b[0m \u001b[0mtf\u001b[0m\u001b[0;34m.\u001b[0m\u001b[0mcompat\u001b[0m\u001b[0;34m.\u001b[0m\u001b[0mv1\u001b[0m\u001b[0;34m.\u001b[0m\u001b[0mget_variable\u001b[0m\u001b[0;34m(\u001b[0m\u001b[0;34m\"b\"\u001b[0m\u001b[0;34m,\u001b[0m \u001b[0mbias_var_shape\u001b[0m\u001b[0;34m,\u001b[0m \u001b[0minitializer\u001b[0m\u001b[0;34m=\u001b[0m\u001b[0mtf\u001b[0m\u001b[0;34m.\u001b[0m\u001b[0mconstant_initializer\u001b[0m\u001b[0;34m(\u001b[0m\u001b[0;36m0.0\u001b[0m\u001b[0;34m)\u001b[0m\u001b[0;34m)\u001b[0m\u001b[0;34m\u001b[0m\u001b[0;34m\u001b[0m\u001b[0m\n\u001b[1;32m     31\u001b[0m         \u001b[0;32mif\u001b[0m \u001b[0;32mnot\u001b[0m \u001b[0mone_dim_bias\u001b[0m \u001b[0;32mand\u001b[0m \u001b[0mdata_format\u001b[0m \u001b[0;34m==\u001b[0m \u001b[0;34m'NHWC'\u001b[0m\u001b[0;34m:\u001b[0m\u001b[0;34m\u001b[0m\u001b[0;34m\u001b[0m\u001b[0m\n",
      "\u001b[0;32m~/.local/lib/python3.7/site-packages/tensorflow/python/ops/variable_scope.py\u001b[0m in \u001b[0;36mget_variable\u001b[0;34m(name, shape, dtype, initializer, regularizer, trainable, collections, caching_device, partitioner, validate_shape, use_resource, custom_getter, constraint, synchronization, aggregation)\u001b[0m\n\u001b[1;32m   1494\u001b[0m       \u001b[0mconstraint\u001b[0m\u001b[0;34m=\u001b[0m\u001b[0mconstraint\u001b[0m\u001b[0;34m,\u001b[0m\u001b[0;34m\u001b[0m\u001b[0;34m\u001b[0m\u001b[0m\n\u001b[1;32m   1495\u001b[0m       \u001b[0msynchronization\u001b[0m\u001b[0;34m=\u001b[0m\u001b[0msynchronization\u001b[0m\u001b[0;34m,\u001b[0m\u001b[0;34m\u001b[0m\u001b[0;34m\u001b[0m\u001b[0m\n\u001b[0;32m-> 1496\u001b[0;31m       aggregation=aggregation)\n\u001b[0m\u001b[1;32m   1497\u001b[0m \u001b[0;34m\u001b[0m\u001b[0m\n\u001b[1;32m   1498\u001b[0m \u001b[0;34m\u001b[0m\u001b[0m\n",
      "\u001b[0;32m~/.local/lib/python3.7/site-packages/tensorflow/python/ops/variable_scope.py\u001b[0m in \u001b[0;36mget_variable\u001b[0;34m(self, var_store, name, shape, dtype, initializer, regularizer, reuse, trainable, collections, caching_device, partitioner, validate_shape, use_resource, custom_getter, constraint, synchronization, aggregation)\u001b[0m\n\u001b[1;32m   1237\u001b[0m           \u001b[0mconstraint\u001b[0m\u001b[0;34m=\u001b[0m\u001b[0mconstraint\u001b[0m\u001b[0;34m,\u001b[0m\u001b[0;34m\u001b[0m\u001b[0;34m\u001b[0m\u001b[0m\n\u001b[1;32m   1238\u001b[0m           \u001b[0msynchronization\u001b[0m\u001b[0;34m=\u001b[0m\u001b[0msynchronization\u001b[0m\u001b[0;34m,\u001b[0m\u001b[0;34m\u001b[0m\u001b[0;34m\u001b[0m\u001b[0m\n\u001b[0;32m-> 1239\u001b[0;31m           aggregation=aggregation)\n\u001b[0m\u001b[1;32m   1240\u001b[0m \u001b[0;34m\u001b[0m\u001b[0m\n\u001b[1;32m   1241\u001b[0m   def _get_partitioned_variable(self,\n",
      "\u001b[0;32m~/.local/lib/python3.7/site-packages/tensorflow/python/ops/variable_scope.py\u001b[0m in \u001b[0;36mget_variable\u001b[0;34m(self, name, shape, dtype, initializer, regularizer, reuse, trainable, collections, caching_device, partitioner, validate_shape, use_resource, custom_getter, constraint, synchronization, aggregation)\u001b[0m\n\u001b[1;32m    560\u001b[0m           \u001b[0mconstraint\u001b[0m\u001b[0;34m=\u001b[0m\u001b[0mconstraint\u001b[0m\u001b[0;34m,\u001b[0m\u001b[0;34m\u001b[0m\u001b[0;34m\u001b[0m\u001b[0m\n\u001b[1;32m    561\u001b[0m           \u001b[0msynchronization\u001b[0m\u001b[0;34m=\u001b[0m\u001b[0msynchronization\u001b[0m\u001b[0;34m,\u001b[0m\u001b[0;34m\u001b[0m\u001b[0;34m\u001b[0m\u001b[0m\n\u001b[0;32m--> 562\u001b[0;31m           aggregation=aggregation)\n\u001b[0m\u001b[1;32m    563\u001b[0m \u001b[0;34m\u001b[0m\u001b[0m\n\u001b[1;32m    564\u001b[0m   def _get_partitioned_variable(self,\n",
      "\u001b[0;32m~/.local/lib/python3.7/site-packages/tensorflow/python/ops/variable_scope.py\u001b[0m in \u001b[0;36m_true_getter\u001b[0;34m(name, shape, dtype, initializer, regularizer, reuse, trainable, collections, caching_device, partitioner, validate_shape, use_resource, constraint, synchronization, aggregation)\u001b[0m\n\u001b[1;32m    512\u001b[0m           \u001b[0mconstraint\u001b[0m\u001b[0;34m=\u001b[0m\u001b[0mconstraint\u001b[0m\u001b[0;34m,\u001b[0m\u001b[0;34m\u001b[0m\u001b[0;34m\u001b[0m\u001b[0m\n\u001b[1;32m    513\u001b[0m           \u001b[0msynchronization\u001b[0m\u001b[0;34m=\u001b[0m\u001b[0msynchronization\u001b[0m\u001b[0;34m,\u001b[0m\u001b[0;34m\u001b[0m\u001b[0;34m\u001b[0m\u001b[0m\n\u001b[0;32m--> 514\u001b[0;31m           aggregation=aggregation)\n\u001b[0m\u001b[1;32m    515\u001b[0m \u001b[0;34m\u001b[0m\u001b[0m\n\u001b[1;32m    516\u001b[0m     synchronization, aggregation, trainable = (\n",
      "\u001b[0;32m~/.local/lib/python3.7/site-packages/tensorflow/python/ops/variable_scope.py\u001b[0m in \u001b[0;36m_get_single_variable\u001b[0;34m(self, name, shape, dtype, initializer, regularizer, partition_info, reuse, trainable, collections, caching_device, validate_shape, use_resource, constraint, synchronization, aggregation)\u001b[0m\n\u001b[1;32m    862\u001b[0m         \u001b[0mtb\u001b[0m \u001b[0;34m=\u001b[0m \u001b[0;34m[\u001b[0m\u001b[0mx\u001b[0m \u001b[0;32mfor\u001b[0m \u001b[0mx\u001b[0m \u001b[0;32min\u001b[0m \u001b[0mtb\u001b[0m \u001b[0;32mif\u001b[0m \u001b[0;34m\"tensorflow/python\"\u001b[0m \u001b[0;32mnot\u001b[0m \u001b[0;32min\u001b[0m \u001b[0mx\u001b[0m\u001b[0;34m[\u001b[0m\u001b[0;36m0\u001b[0m\u001b[0;34m]\u001b[0m\u001b[0;34m]\u001b[0m\u001b[0;34m[\u001b[0m\u001b[0;34m:\u001b[0m\u001b[0;36m5\u001b[0m\u001b[0;34m]\u001b[0m\u001b[0;34m\u001b[0m\u001b[0;34m\u001b[0m\u001b[0m\n\u001b[1;32m    863\u001b[0m         raise ValueError(\"%s Originally defined at:\\n\\n%s\" %\n\u001b[0;32m--> 864\u001b[0;31m                          (err_msg, \"\".join(traceback.format_list(tb))))\n\u001b[0m\u001b[1;32m    865\u001b[0m       \u001b[0mfound_var\u001b[0m \u001b[0;34m=\u001b[0m \u001b[0mself\u001b[0m\u001b[0;34m.\u001b[0m\u001b[0m_vars\u001b[0m\u001b[0;34m[\u001b[0m\u001b[0mname\u001b[0m\u001b[0;34m]\u001b[0m\u001b[0;34m\u001b[0m\u001b[0;34m\u001b[0m\u001b[0m\n\u001b[1;32m    866\u001b[0m       \u001b[0;32mif\u001b[0m \u001b[0;32mnot\u001b[0m \u001b[0mshape\u001b[0m\u001b[0;34m.\u001b[0m\u001b[0mis_compatible_with\u001b[0m\u001b[0;34m(\u001b[0m\u001b[0mfound_var\u001b[0m\u001b[0;34m.\u001b[0m\u001b[0mget_shape\u001b[0m\u001b[0;34m(\u001b[0m\u001b[0;34m)\u001b[0m\u001b[0;34m)\u001b[0m\u001b[0;34m:\u001b[0m\u001b[0;34m\u001b[0m\u001b[0;34m\u001b[0m\u001b[0m\n",
      "\u001b[0;31mValueError\u001b[0m: Variable ppo/pol/c1/w already exists, disallowed. Did you mean to set reuse=True or reuse=tf.AUTO_REUSE in VarScope? Originally defined at:\n\n  File \"/home/endolab/Workspace/RND/baselines/random-network-distillation/utils.py\", line 29, in conv\n    w = tf.compat.v1.get_variable(\"w\", wshape, initializer=ortho_init(init_scale))\n  File \"/home/endolab/Workspace/RND/baselines/random-network-distillation/policies/cnn_gru_policy_dynamics.py\", line 126, in apply_policy\n    X = activ(conv(X, 'c1', nf=32, rf=8, stride=4, init_scale=np.sqrt(2), data_format=data_format))\n  File \"/home/endolab/Workspace/RND/baselines/random-network-distillation/policies/cnn_gru_policy_dynamics.py\", line 80, in __init__\n    rec_gate_init=rec_gate_init\n  File \"/home/endolab/Workspace/RND/baselines/random-network-distillation/ppo_agent.py\", line 137, in __init__\n    self.stochpol = stochpol_fn()\n  File \"<ipython-input-91-0c51542b0c08>\", line 51, in <module>\n    ext_coeff=hps.pop('ext_coeff'),\n"
     ]
    }
   ],
   "source": [
    "venv = VecFrameStack(\n",
    "    make_atari_env(env_id, num_env, seed, wrapper_kwargs=dict(),\n",
    "                   start_index=num_env * MPI.COMM_WORLD.Get_rank(),\n",
    "                   max_episode_steps=500),\n",
    "    hps.pop('frame_stack'))\n",
    "\n",
    "venv.score_multiple = 1\n",
    "venv.record_obs = True if env_id == 'SolarisNoFrameskip-v4' else False\n",
    "ob_space = venv.observation_space\n",
    "ac_space = venv.action_space\n",
    "gamma = hps.pop('gamma')\n",
    "policy = {'rnn': CnnGruPolicy,\n",
    "          'cnn': CnnPolicy}[hps.pop('policy')]\n",
    "\n",
    "agent = PpoAgent(\n",
    "    scope='ppo',\n",
    "    ob_space=ob_space,\n",
    "    ac_space=ac_space,\n",
    "    stochpol_fn=functools.partial(\n",
    "        policy,\n",
    "            scope='pol',\n",
    "            ob_space=ob_space,\n",
    "            ac_space=ac_space,\n",
    "            update_ob_stats_independently_per_gpu=hps.pop('update_ob_stats_independently_per_gpu'),\n",
    "            proportion_of_exp_used_for_predictor_update=hps.pop('proportion_of_exp_used_for_predictor_update'),\n",
    "            dynamics_bonus = hps.pop(\"dynamics_bonus\")\n",
    "        ),\n",
    "    gamma=gamma,\n",
    "    gamma_ext=hps.pop('gamma_ext'),\n",
    "    lam=hps.pop('lam'),\n",
    "    nepochs=hps.pop('nepochs'),\n",
    "    nminibatches=hps.pop('nminibatches'),\n",
    "    lr=hps.pop('lr'),\n",
    "    cliprange=0.1,\n",
    "    nsteps=128,\n",
    "    ent_coef=0.001,\n",
    "    max_grad_norm=hps.pop('max_grad_norm'),\n",
    "    use_news=hps.pop(\"use_news\"),\n",
    "    comm=MPI.COMM_WORLD if MPI.COMM_WORLD.Get_size() > 1 else None,\n",
    "    update_ob_stats_every_step=hps.pop('update_ob_stats_every_step'),\n",
    "    int_coeff=hps.pop('int_coeff'),\n",
    "    ext_coeff=hps.pop('ext_coeff'),\n",
    "#     sess=sess\n",
    ")\n",
    "\n",
    "agent.start_interaction([venv])\n",
    "if hps.pop('update_ob_stats_from_random_agent'):\n",
    "    agent.collect_random_statistics(num_timesteps=128*50)\n",
    "assert len(hps) == 0, \"Unused hyperparameters: %s\" % list(hps.keys())\n",
    "\n",
    "counter = 0\n",
    "img = []\n",
    "\n",
    "# while True:\n",
    "#     info, obs = agent.step()\n",
    "    \n",
    "#     print(agent.I.venvs[0].render())\n",
    "#     break\n",
    "# #         img.append(obs)\n",
    "#     if len(img) > 1000:\n",
    "#         img.pop(0)\n",
    "        \n",
    "        \n",
    "# #         summary = sess.run(agent.merged)\n",
    "# #         self.writer.add_summary(summary)\n",
    "        \n",
    "#     if info['update']:\n",
    "#         logger.logkvs(info['update'])\n",
    "#         logger.dumpkvs()\n",
    "#         counter += 1\n",
    "#     if agent.I.stats['tcount'] > num_timesteps:\n",
    "            \n",
    "#         dpi = 72\n",
    "#         interval = 50 # ms\n",
    "#         plt.figure(figsize=(img[0].shape[1]/dpi,img[0].shape[0]/dpi),dpi=dpi)\n",
    "#         patch = plt.imshow(img[0])\n",
    "#         plt.axis=('off')\n",
    "#         animate = lambda i: patch.set_data(img[i])\n",
    "#         ani = animation.FuncAnimation(plt.gcf(),animate,frames=len(img),interval=interval)\n",
    "#         ani.save('movies/test_movie.mp4')\n",
    "            \n",
    "#         break\n",
    "        \n",
    "# #         if agent.I.stats['rewtotal'] > 0:\n",
    "# #             with open('minigrid_info.txt','a') as f:\n",
    "# #                 f.write(\"first reward get : \"+str(agent.I.stats['epcount'])+\" epcount , \"+str(agent.I.stats['tcount'])+\" tcount , reward = \"+str(agent.I.stats['rewtotal'])+\"\\n\")\n",
    "\n",
    "# agent.stop_interaction()"
   ]
  },
  {
   "cell_type": "code",
   "execution_count": 93,
   "metadata": {},
   "outputs": [],
   "source": [
    "info, obs = agent.step()"
   ]
  },
  {
   "cell_type": "code",
   "execution_count": 138,
   "metadata": {},
   "outputs": [
    {
     "ename": "AttributeError",
     "evalue": "'NoneType' object has no attribute 'close'",
     "output_type": "error",
     "traceback": [
      "\u001b[0;31m\u001b[0m",
      "\u001b[0;31mAttributeError\u001b[0mTraceback (most recent call last)",
      "\u001b[0;32m<ipython-input-138-4da729d8f7e2>\u001b[0m in \u001b[0;36m<module>\u001b[0;34m\u001b[0m\n\u001b[0;32m----> 1\u001b[0;31m \u001b[0magent\u001b[0m\u001b[0;34m.\u001b[0m\u001b[0mstop_interaction\u001b[0m\u001b[0;34m(\u001b[0m\u001b[0;34m)\u001b[0m\u001b[0;34m\u001b[0m\u001b[0;34m\u001b[0m\u001b[0m\n\u001b[0m",
      "\u001b[0;32m~/Workspace/RND/baselines/random-network-distillation/ppo_agent.py\u001b[0m in \u001b[0;36mstop_interaction\u001b[0;34m(self)\u001b[0m\n\u001b[1;32m    237\u001b[0m \u001b[0;34m\u001b[0m\u001b[0m\n\u001b[1;32m    238\u001b[0m     \u001b[0;32mdef\u001b[0m \u001b[0mstop_interaction\u001b[0m\u001b[0;34m(\u001b[0m\u001b[0mself\u001b[0m\u001b[0;34m)\u001b[0m\u001b[0;34m:\u001b[0m\u001b[0;34m\u001b[0m\u001b[0;34m\u001b[0m\u001b[0m\n\u001b[0;32m--> 239\u001b[0;31m         \u001b[0mself\u001b[0m\u001b[0;34m.\u001b[0m\u001b[0mI\u001b[0m\u001b[0;34m.\u001b[0m\u001b[0mclose\u001b[0m\u001b[0;34m(\u001b[0m\u001b[0;34m)\u001b[0m\u001b[0;34m\u001b[0m\u001b[0;34m\u001b[0m\u001b[0m\n\u001b[0m\u001b[1;32m    240\u001b[0m         \u001b[0mself\u001b[0m\u001b[0;34m.\u001b[0m\u001b[0mI\u001b[0m \u001b[0;34m=\u001b[0m \u001b[0;32mNone\u001b[0m\u001b[0;34m\u001b[0m\u001b[0;34m\u001b[0m\u001b[0m\n\u001b[1;32m    241\u001b[0m \u001b[0;34m\u001b[0m\u001b[0m\n",
      "\u001b[0;31mAttributeError\u001b[0m: 'NoneType' object has no attribute 'close'"
     ]
    }
   ],
   "source": [
    "agent.stop_interaction()"
   ]
  },
  {
   "cell_type": "code",
   "execution_count": 102,
   "metadata": {},
   "outputs": [
    {
     "name": "stdout",
     "output_type": "stream",
     "text": [
      "0.0001\n"
     ]
    }
   ],
   "source": [
    "print(agent.lr)"
   ]
  },
  {
   "cell_type": "code",
   "execution_count": 110,
   "metadata": {},
   "outputs": [
    {
     "ename": "AttributeError",
     "evalue": "'list' object has no attribute 'shape'",
     "output_type": "error",
     "traceback": [
      "\u001b[0;31m\u001b[0m",
      "\u001b[0;31mAttributeError\u001b[0mTraceback (most recent call last)",
      "\u001b[0;32m<ipython-input-110-ea0d6de3735a>\u001b[0m in \u001b[0;36m<module>\u001b[0;34m\u001b[0m\n\u001b[0;32m----> 1\u001b[0;31m \u001b[0mprint\u001b[0m\u001b[0;34m(\u001b[0m\u001b[0mvenv\u001b[0m\u001b[0;34m.\u001b[0m\u001b[0mrender\u001b[0m\u001b[0;34m(\u001b[0m\u001b[0;34m)\u001b[0m\u001b[0;34m)\u001b[0m\u001b[0;34m\u001b[0m\u001b[0;34m\u001b[0m\u001b[0m\n\u001b[0m",
      "\u001b[0;32m~/Workspace/RND/baselines/random-network-distillation/vec_env.py\u001b[0m in \u001b[0;36mrender\u001b[0;34m(self)\u001b[0m\n\u001b[1;32m    113\u001b[0m \u001b[0;34m\u001b[0m\u001b[0m\n\u001b[1;32m    114\u001b[0m     \u001b[0;32mdef\u001b[0m \u001b[0mrender\u001b[0m\u001b[0;34m(\u001b[0m\u001b[0mself\u001b[0m\u001b[0;34m)\u001b[0m\u001b[0;34m:\u001b[0m\u001b[0;34m\u001b[0m\u001b[0;34m\u001b[0m\u001b[0m\n\u001b[0;32m--> 115\u001b[0;31m         \u001b[0mself\u001b[0m\u001b[0;34m.\u001b[0m\u001b[0mvenv\u001b[0m\u001b[0;34m.\u001b[0m\u001b[0mrender\u001b[0m\u001b[0;34m(\u001b[0m\u001b[0;34m)\u001b[0m\u001b[0;34m\u001b[0m\u001b[0;34m\u001b[0m\u001b[0m\n\u001b[0m\u001b[1;32m    116\u001b[0m \u001b[0;34m\u001b[0m\u001b[0m\n\u001b[1;32m    117\u001b[0m \u001b[0;32mclass\u001b[0m \u001b[0mCloudpickleWrapper\u001b[0m\u001b[0;34m(\u001b[0m\u001b[0mobject\u001b[0m\u001b[0;34m)\u001b[0m\u001b[0;34m:\u001b[0m\u001b[0;34m\u001b[0m\u001b[0;34m\u001b[0m\u001b[0m\n",
      "\u001b[0;32m~/Workspace/RND/baselines/random-network-distillation/vec_env.py\u001b[0m in \u001b[0;36mrender\u001b[0;34m(self, mode)\u001b[0m\n\u001b[1;32m    316\u001b[0m             \u001b[0mpipe\u001b[0m\u001b[0;34m.\u001b[0m\u001b[0msend\u001b[0m\u001b[0;34m(\u001b[0m\u001b[0;34m(\u001b[0m\u001b[0;34m'render'\u001b[0m\u001b[0;34m,\u001b[0m \u001b[0;32mNone\u001b[0m\u001b[0;34m)\u001b[0m\u001b[0;34m)\u001b[0m\u001b[0;34m\u001b[0m\u001b[0;34m\u001b[0m\u001b[0m\n\u001b[1;32m    317\u001b[0m         \u001b[0mimgs\u001b[0m \u001b[0;34m=\u001b[0m \u001b[0;34m[\u001b[0m\u001b[0mpipe\u001b[0m\u001b[0;34m.\u001b[0m\u001b[0mrecv\u001b[0m\u001b[0;34m(\u001b[0m\u001b[0;34m)\u001b[0m \u001b[0;32mfor\u001b[0m \u001b[0mpipe\u001b[0m \u001b[0;32min\u001b[0m \u001b[0mself\u001b[0m\u001b[0;34m.\u001b[0m\u001b[0mremotes\u001b[0m\u001b[0;34m]\u001b[0m\u001b[0;34m\u001b[0m\u001b[0;34m\u001b[0m\u001b[0m\n\u001b[0;32m--> 318\u001b[0;31m         \u001b[0mprint\u001b[0m\u001b[0;34m(\u001b[0m\u001b[0mimgs\u001b[0m\u001b[0;34m)\u001b[0m\u001b[0;34m\u001b[0m\u001b[0;34m\u001b[0m\u001b[0m\n\u001b[0m\u001b[1;32m    319\u001b[0m         \u001b[0;32mbreak\u001b[0m\u001b[0;34m\u001b[0m\u001b[0;34m\u001b[0m\u001b[0m\n\u001b[1;32m    320\u001b[0m         \u001b[0mbigimg\u001b[0m \u001b[0;34m=\u001b[0m \u001b[0mtile_images\u001b[0m\u001b[0;34m(\u001b[0m\u001b[0mimgs\u001b[0m\u001b[0;34m)\u001b[0m\u001b[0;34m\u001b[0m\u001b[0;34m\u001b[0m\u001b[0m\n",
      "\u001b[0;32m~/Workspace/RND/baselines/random-network-distillation/utils.py\u001b[0m in \u001b[0;36mtile_images\u001b[0;34m(array, n_cols, max_images, div)\u001b[0m\n\u001b[1;32m     53\u001b[0m     \u001b[0;32mif\u001b[0m \u001b[0mmax_images\u001b[0m \u001b[0;32mis\u001b[0m \u001b[0;32mnot\u001b[0m \u001b[0;32mNone\u001b[0m\u001b[0;34m:\u001b[0m\u001b[0;34m\u001b[0m\u001b[0;34m\u001b[0m\u001b[0m\n\u001b[1;32m     54\u001b[0m         \u001b[0marray\u001b[0m \u001b[0;34m=\u001b[0m \u001b[0marray\u001b[0m\u001b[0;34m[\u001b[0m\u001b[0;34m:\u001b[0m\u001b[0mmax_images\u001b[0m\u001b[0;34m]\u001b[0m\u001b[0;34m\u001b[0m\u001b[0;34m\u001b[0m\u001b[0m\n\u001b[0;32m---> 55\u001b[0;31m     \u001b[0;32mif\u001b[0m \u001b[0mlen\u001b[0m\u001b[0;34m(\u001b[0m\u001b[0marray\u001b[0m\u001b[0;34m.\u001b[0m\u001b[0mshape\u001b[0m\u001b[0;34m)\u001b[0m \u001b[0;34m==\u001b[0m \u001b[0;36m4\u001b[0m \u001b[0;32mand\u001b[0m \u001b[0marray\u001b[0m\u001b[0;34m.\u001b[0m\u001b[0mshape\u001b[0m\u001b[0;34m[\u001b[0m\u001b[0;36m3\u001b[0m\u001b[0;34m]\u001b[0m \u001b[0;34m==\u001b[0m \u001b[0;36m1\u001b[0m\u001b[0;34m:\u001b[0m\u001b[0;34m\u001b[0m\u001b[0;34m\u001b[0m\u001b[0m\n\u001b[0m\u001b[1;32m     56\u001b[0m         \u001b[0marray\u001b[0m \u001b[0;34m=\u001b[0m \u001b[0marray\u001b[0m\u001b[0;34m[\u001b[0m\u001b[0;34m:\u001b[0m\u001b[0;34m,\u001b[0m \u001b[0;34m:\u001b[0m\u001b[0;34m,\u001b[0m \u001b[0;34m:\u001b[0m\u001b[0;34m,\u001b[0m \u001b[0;36m0\u001b[0m\u001b[0;34m]\u001b[0m\u001b[0;34m\u001b[0m\u001b[0;34m\u001b[0m\u001b[0m\n\u001b[1;32m     57\u001b[0m     \u001b[0;32massert\u001b[0m \u001b[0mlen\u001b[0m\u001b[0;34m(\u001b[0m\u001b[0marray\u001b[0m\u001b[0;34m.\u001b[0m\u001b[0mshape\u001b[0m\u001b[0;34m)\u001b[0m \u001b[0;32min\u001b[0m \u001b[0;34m[\u001b[0m\u001b[0;36m3\u001b[0m\u001b[0;34m,\u001b[0m \u001b[0;36m4\u001b[0m\u001b[0;34m]\u001b[0m\u001b[0;34m,\u001b[0m \u001b[0;34m\"wrong number of dimensions - shape {}\"\u001b[0m\u001b[0;34m.\u001b[0m\u001b[0mformat\u001b[0m\u001b[0;34m(\u001b[0m\u001b[0marray\u001b[0m\u001b[0;34m.\u001b[0m\u001b[0mshape\u001b[0m\u001b[0;34m)\u001b[0m\u001b[0;34m\u001b[0m\u001b[0;34m\u001b[0m\u001b[0m\n",
      "\u001b[0;31mAttributeError\u001b[0m: 'list' object has no attribute 'shape'"
     ]
    }
   ],
   "source": [
    "print(venv.render())"
   ]
  },
  {
   "cell_type": "code",
   "execution_count": null,
   "metadata": {},
   "outputs": [],
   "source": []
  }
 ],
 "metadata": {
  "kernelspec": {
   "display_name": "Python 3",
   "language": "python",
   "name": "python3"
  },
  "language_info": {
   "codemirror_mode": {
    "name": "ipython",
    "version": 3
   },
   "file_extension": ".py",
   "mimetype": "text/x-python",
   "name": "python",
   "nbconvert_exporter": "python",
   "pygments_lexer": "ipython3",
   "version": "3.7.1"
  }
 },
 "nbformat": 4,
 "nbformat_minor": 2
}
